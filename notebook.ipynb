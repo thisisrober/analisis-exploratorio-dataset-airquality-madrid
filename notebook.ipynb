{
 "cells": [
  {
   "cell_type": "markdown",
   "id": "f2b8ae2c",
   "metadata": {},
   "source": [
    "# 🔎 Análisis Exploratorio: La Calidad del Aire en Madrid (2001-2022)\n",
    "\n",
    "Este proyecto utiliza el dataset “MadridPolution2001-2022.csv”, que contiene registros horarios de contaminantes atmosféricos medidos en la estación Escuelas Aguirre (Madrid) desde enero de 2001 hasta marzo de 2022. El objetivo es analizar la calidad del aire en el centro de Madrid a lo largo de dos décadas y descubrir cómo ha cambiado la contaminación en la ciudad, identificando tendencias a largo plazo, patrones estacionales y episodios de polución extrema. Para ello, se estudiarán los registros horarios de 14 contaminantes clave, tomados desde enero de 2001 hasta marzo de 2022.\n",
    "\n",
    "A continuación, se detalla qué es cada uno de estos contaminantes y por qué es importante medirlos.\n",
    "\n",
    "---\n",
    "\n",
    "## ¿Qué contaminantes se miden y qué significan?\n",
    "\n",
    "Los datos recogidos incluyen diferentes tipos de partículas y gases que afectan tanto a nuestra salud como al medio ambiente. Se pueden agrupar en las siguientes categorías:\n",
    "\n",
    "### 💨 Partículas en suspensión: El polvo que no se ve\n",
    "\n",
    "Son pequeñas partículas sólidas y líquidas que flotan en el aire. Su peligrosidad depende de su tamaño: cuanto más pequeñas, más profundamente pueden penetrar en nuestros pulmones.\n",
    "\n",
    "* **PM10**: Partículas con un diámetro inferior a 10 micrómetros. Incluyen polvo, polen, cenizas y hollín. Pueden irritar los ojos, la nariz y la garganta.\n",
    "* **PM2.5**: Partículas con un diámetro inferior a 2.5 micrómetros, también conocidas como \"partículas finas\". Son mucho más peligrosas, ya que pueden llegar a los alvéolos pulmonares e incluso pasar al torrente sanguíneo. Se originan principalmente en la quema de combustibles de vehículos e industria.\n",
    "\n",
    "### 🚗 Gases relacionados con el tráfico y la combustión\n",
    "\n",
    "La mayoría de estos gases se producen al quemar combustibles como la gasolina, el diésel o el gas natural. Son los principales responsables de la \"boina\" de contaminación de las grandes ciudades.\n",
    "\n",
    "* **CO (Monóxido de carbono)**: Un gas tóxico que se genera cuando la combustión es incompleta. Su principal fuente en las ciudades son los tubos de escape de los coches.\n",
    "* **NO (Monóxido de nitrógeno)** y **NO2 (Dióxido de nitrógeno)**: Comúnmente agrupados como **NOx (Óxidos de nitrógeno)**, son gases que se forman a altas temperaturas en los motores de los vehículos y en las centrales eléctricas. El NO2 es el gas de color marrón-rojizo que se ve en las nubes de contaminación y está directamente relacionado con enfermedades respiratorias.\n",
    "* **SO2 (Dióxido de azufre)**: Proviene principalmente de la quema de combustibles fósiles con contenido de azufre, como el carbón y el petróleo, en la industria y la calefacción. Es uno de los causantes de la lluvia ácida.\n",
    "\n",
    "### ☀️ Ozono \"malo\": Un contaminante de verano\n",
    "\n",
    "* **O3 (Ozono)**: A diferencia del ozono bueno de la estratosfera que nos protege del sol, el ozono a nivel del suelo es un contaminante. No se emite directamente, sino que se forma cuando los óxidos de nitrógeno (NOx) y otros compuestos reaccionan con la luz solar. Por eso, sus niveles suelen ser más altos en días soleados y calurosos, provocando irritación en las vías respiratorias.\n",
    "\n",
    "### ⛽ Compuestos Orgánicos Volátiles (COVs)\n",
    "\n",
    "Son un grupo amplio de sustancias químicas que se evaporan fácilmente a temperatura ambiente. Proceden de los combustibles, disolventes, pinturas y también de los tubos de escape.\n",
    "\n",
    "* **BEN (Benceno)**, **TOL (Tolueno)** y **EBE (Etilbenceno)**: Son compuestos aromáticos derivados del petróleo, muy presentes en la gasolina. Son tóxicos y el benceno, en particular, es un conocido cancerígeno.\n",
    "* **CH4 (Metano)**, **NMHC (Hidrocarburos no metánicos)** y **TCH (Hidrocarburos totales)**: Estos términos agrupan a todos los compuestos de hidrocarburos en el aire. El metano (CH4) es un potente gas de efecto invernadero, mientras que los NMHC son importantes porque contribuyen a la formación de ozono. El TCH es simplemente la suma de ambos.\n",
    "\n",
    "El análisis de estas variables nos permitirá obtener una radiografía completa de la evolución del aire que respiramos en Madrid y entender mejor el impacto de nuestras actividades diarias en el entorno urbano."
   ]
  },
  {
   "cell_type": "markdown",
   "id": "2e1d8c16",
   "metadata": {},
   "source": [
    "## 🌱 Alba (limpieza y calidad de datos)\n",
    "\n",
    "Para asegurar la fiabilidad de nuestro análisis, el primer paso es realizar una limpieza exhaustiva y una evaluación de la calidad de los datos. Un dataset limpio y bien estructurado es fundamental para obtener conclusiones válidas.\n",
    "\n",
    "En esta fase, nos centraremos en:\n",
    "1. Validar y transformar el formato de las fechas, que es la base de nuestro análisis temporal.\n",
    "2. Cuantificar y analizar los valores ausentes (nulos) para entender qué variables tienen datos más completos.\n",
    "3. Verificar la existencia de filas duplicadas que puedan distorsionar los resultados.\n",
    "4. Asegurar que los tipos de datos son correctos para cada variable.\n",
    "5. Detectar posibles valores anómalos, como mediciones negativas, que no tendrían sentido físico.\n",
    "\n",
    "Comenzamos por convertir la columna `Time` a un formato `datetime`. Esto es crucial para que Python la reconozca como una fecha y no como simple texto, permitiéndonos realizar operaciones temporales. Además, creamos columnas adicionales (year, month, day, hour) para facilitar la agrupación y el análisis de patrones en diferentes escalas de tiempo."
   ]
  },
  {
   "cell_type": "code",
   "execution_count": null,
   "id": "b991178b",
   "metadata": {},
   "outputs": [],
   "source": [
    "import pandas as pd\n",
    "import calendar\n",
    "import matplotlib.pyplot as plt\n",
    "import matplotlib.ticker as mticker\n",
    "\n",
    "# Cargar el dataset\n",
    "csv_path = r\"data/MadridPolution2001-2022.csv\"\n",
    "\n",
    "# Leer sin parsear fechas inicialmente para detectar el nombre de columna correcto\n",
    "df = pd.read_csv(csv_path)\n",
    "\n",
    "# --- LIMPIEZA DE FECHA ---\n",
    "# La columna \"time\" la convertimos directamente a datetime\n",
    "df[\"Time\"] = pd.to_datetime(df[\"Time\"], errors=\"coerce\") # Con errors=\"coerce\"\n",
    "\n",
    "# Verificamos si se han generado nulos al convertir la columna \"Time\" a formato datetime\n",
    "print(\"Nulos en la columna Time después de la conversión: \", df[\"Time\"].isna().sum())\n",
    "\n",
    "# Creamos columnas auxiliares para explorar temporalmente el dataset, pero de momento no haremos una limpieza estricta\n",
    "df[\"year\"] = df[\"Time\"].dt.year\n",
    "df[\"month\"] = df[\"Time\"].dt.month\n",
    "df[\"day\"] = df[\"Time\"].dt.day\n",
    "df[\"hour\"] = df[\"Time\"].dt.hour\n",
    "\n",
    "\n",
    "# Mostramos los resultados\n",
    "print(\"Columnas detectadas en el CSV:\", df.columns.tolist())\n",
    "print(\"Dimensiones del dataset:\", df.shape)\n",
    "print(df.head(10))"
   ]
  },
  {
   "cell_type": "markdown",
   "id": "a108ff3c",
   "metadata": {},
   "source": [
    "#### **Analizamos la presencia de valores nulos**\n",
    "Uno de los problemas más comunes en los datasets del mundo real es la ausencia de datos. Medir la cantidad de valores nulos en cada columna nos permite evaluar la fiabilidad de cada variable. A continuación, calculamos cuántos datos faltan en cada columna y qué porcentaje representan sobre el total de registros."
   ]
  },
  {
   "cell_type": "markdown",
   "id": "c58d63e4",
   "metadata": {},
   "source": [
    "Para visualizar mejor la magnitud del problema, un gráfico de barras es ideal. Nos permite comparar de un vistazo qué contaminantes tienen la mayor proporción de datos ausentes. Esto será clave para decidir si debemos descartar alguna variable o si necesitamos aplicar técnicas de imputación de datos en análisis futuros."
   ]
  },
  {
   "cell_type": "code",
   "execution_count": null,
   "id": "aeff0790",
   "metadata": {},
   "outputs": [],
   "source": [
    "conteo_de_nulos['Porcentaje'].plot(kind=\"bar\", color='red', legend=False)\n",
    "plt.title(\"Porcentaje de valores nulos en cada columna\")\n",
    "plt.xlabel(\"Columnas del DataSet\")\n",
    "plt.ylabel(\"Valores nulos (%)\")\n",
    "\n",
    "plt.grid(True, axis='y', linestyle='--', alpha=0.7)\n",
    "\n",
    "plt.ylim(0, 100)\n",
    "ejes = plt.gca()\n",
    "ejes.yaxis.set_major_formatter(mticker.FuncFormatter(lambda y, _: f'{int(y)}%'))\n",
    "plt.show()"
   ]
  },
  {
   "cell_type": "markdown",
   "id": "3378ad9a",
   "metadata": {},
   "source": [
    "#### **Interpretación de los resultados:**\n",
    "\n",
    "El análisis de valores nulos revela información muy importante:\n",
    "\n",
    "PM2.5 es la variable más afectada, con casi un 40% de datos ausentes. Esto sugiere que las mediciones de partículas finas pueden haber sido inconsistentes o que el equipo de medición no estuvo operativo durante largos periodos, por lo que cualquier análisis sobre PM2.5 debe hacerse con cautela.\n",
    "\n",
    "Los hidrocarburos NMHC, TCH y CH4 también presentan una cantidad considerable de nulos, aunque por debajo del 20%.\n",
    "\n",
    "Por otro lado, contaminantes clave como NO, NO2, O3, SO2 y CO tienen un porcentaje de nulos muy bajo (< 5%), lo que los convierte en candidatos muy fiables para nuestro análisis de tendencias.\n",
    "\n",
    "Es una excelente noticia que las columnas temporales (Time, year, month, day, hour) no tengan ningún valor nulo (0%). Esto nos garantiza que tenemos un registro horario completo a lo largo de los 21 años del dataset, lo cual es fundamental para el análisis de series temporales.\n",
    "\n",
    "---"
   ]
  },
  {
   "cell_type": "markdown",
   "id": "e8f22bec",
   "metadata": {},
   "source": [
    "#### **Verificación de Duplicados**\n",
    "Otro paso importante es comprobar si existen filas completamente duplicadas. En un dataset de series temporales, cada registro horario debería ser único. La presencia de duplicados podría indicar errores en la recolección o procesamiento de los datos, y su eliminación es necesaria para no sesgar los cálculos estadísticos."
   ]
  },
  {
   "cell_type": "code",
   "execution_count": null,
   "id": "f91baaf2",
   "metadata": {},
   "outputs": [],
   "source": [
    "duplicados = df.duplicated().sum()\n",
    "print(f\"Numero de filas duplicadas: {duplicados}\")\n",
    "\n",
    "# En caso de que detectase algún duplicado, con el método drop_duplicates eliminaría la columna entera\n",
    "if duplicados > 0:\n",
    "    df.drop_duplicates()\n",
    "    print(\"Duplicados eliminados. Nuevo tamaño del dataset: \", df.shape)"
   ]
  },
  {
   "cell_type": "markdown",
   "id": "6d54cf50",
   "metadata": {},
   "source": [
    "**Resultado:** El análisis confirma que no existen filas duplicadas en el dataset. Cada registro corresponde a una medición horaria única, lo que refuerza la integridad de nuestros datos.\n",
    "\n",
    "---"
   ]
  },
  {
   "cell_type": "markdown",
   "id": "0c12847a",
   "metadata": {},
   "source": [
    "#### **Revisión de Tipos de Datos**\n",
    "Ahora, nos aseguramos de que cada columna tenga el tipo de dato adecuado. Las variables de contaminantes deben ser numéricas (enteros o decimales) para poder realizar cálculos matemáticos, y las de fecha deben tener el formato datetime. Si una columna numérica se hubiera cargado como texto, cualquier operación matemática fallaría."
   ]
  },
  {
   "cell_type": "code",
   "execution_count": null,
   "id": "af97ebf9",
   "metadata": {},
   "outputs": [],
   "source": [
    "print(\"\\nTipos de datos detectados en el dataset:\")\n",
    "print(df.dtypes)\n",
    "\n",
    "# Comprobamos si hay columnas numéricas cargadas como texto\n",
    "numeric_cols = df.select_dtypes(include=[\"object\"]).columns\n",
    "print(\"\\nColumnas tipo 'object' (texto):\", numeric_cols.tolist())"
   ]
  },
  {
   "cell_type": "markdown",
   "id": "8db822fa",
   "metadata": {},
   "source": [
    "**Resultado:** La revisión muestra que todas las columnas tienen el formato correcto. Las variables de los contaminantes son de tipo `float64` (decimal), las columnas de tiempo auxiliares son `int64` (entero), y la columna principal `Time` es `datetime64[ns]`. No hay columnas numéricas interpretadas erróneamente como texto.\n",
    "\n",
    "---"
   ]
  },
  {
   "cell_type": "markdown",
   "id": "8355f08f",
   "metadata": {},
   "source": [
    "#### **Detección de Valores Anómalos**\n",
    "Finalmente, investigamos la existencia de valores que no tienen sentido desde una perspectiva lógica o física. En la medición de contaminantes, no es posible tener concentraciones negativas. También revisamos los rangos (mínimos y máximos) de cada variable para detectar posibles valores extremos que pudieran ser errores de medición."
   ]
  },
  {
   "cell_type": "code",
   "execution_count": null,
   "id": "cbf282f2",
   "metadata": {},
   "outputs": [],
   "source": [
    "# Buscar valores negativos en las columnas numéricas\n",
    "negativos = (df.select_dtypes(include=[\"float64\", \"int64\"]) < 0).sum()\n",
    "print(\"\\nValores negativos por columna:\")\n",
    "print(negativos[negativos > 0])\n",
    "\n",
    "# Ver rango de cada variable (mínimo y máximo)\n",
    "rangos = df.describe().T[[\"min\", \"max\"]]\n",
    "print(\"\\nRangos de valores por columna:\")\n",
    "print(rangos)"
   ]
  },
  {
   "cell_type": "markdown",
   "id": "4d1c95a8",
   "metadata": {},
   "source": [
    "**Resultado:** El análisis confirma que no hay valores negativos en ninguna de las columnas de contaminantes, lo cual es coherente.\n",
    "\n",
    "Al observar los rangos, vemos que los valores mínimos son cero o cercanos a cero, como es de esperar. Aunque algunos máximos puedan parecer elevados, es plausible que correspondan a episodios de alta contaminación, por lo que no los eliminaremos en esta fase.\n",
    "\n",
    "---"
   ]
  },
  {
   "cell_type": "markdown",
   "id": "f547358a",
   "metadata": {},
   "source": [
    "### **Conclusión de la Limpieza de Datos 🧐**\n",
    "\n",
    "Tras completar el proceso de limpieza y validación, podemos concluir que el dataset tiene una **calidad general buena y es robusto** para el análisis exploratorio.\n",
    "\n",
    "Los puntos clave son:\n",
    "\n",
    "* **El eje temporal es completo y coherente**, sin duplicados ni errores de formato, lo que proporciona una base sólida para el análisis.\n",
    "\n",
    "* Los datos de los principales contaminantes relacionados con el tráfico y la salud pública **(NOx, CO, O3, SO2)** son fiables y presentan muy pocos valores ausentes.\n",
    "\n",
    "* La principal debilidad del dataset es la ** alta proporción de valores nulos en la columna PM2.5 (~40%), así como en los hidrocarburos (CH4, NMHC, TCH) **. Esto deberá tenerse en cuenta en las siguientes fases del análisis, ya que las conclusiones sobre estas variables serán menos representativas.\n",
    "\n",
    "El dataset está ahora preparado para la siguiente etapa: el análisis general y descriptivo.\n",
    "\n",
    "---"
   ]
  },
  {
   "cell_type": "markdown",
   "id": "f14aa2bd",
   "metadata": {},
   "source": [
    "## 📊 Robert (análisis general y descriptivo)\n",
    "\n",
    "- Promedio anual: ¿Cuál es la concentración media de cada contaminante por año? (tabla resumen por año y contaminante).\n",
    "- Mejora: Visualizar la evolución anual de los principales contaminantes con gráficos de líneas.\n"
   ]
  },
  {
   "cell_type": "code",
   "execution_count": null,
   "id": "345ff140",
   "metadata": {},
   "outputs": [],
   "source": []
  },
  {
   "cell_type": "code",
   "execution_count": null,
   "id": "20769903",
   "metadata": {},
   "outputs": [],
   "source": [
    "# Renombrar la columna de fecha a 'date' para homogeneidad\n",
    "if date_col != \"date\":\n",
    "    df = df.rename(columns={date_col: \"date\"})\n",
    "\n",
    "# Asegurar que la columna 'date' esté en formato datetime\n",
    "if not pd.api.types.is_datetime64_any_dtype(df[\"date\"]):\n",
    "    df[\"date\"] = pd.to_datetime(df[\"date\"], dayfirst=True, errors=\"coerce\")\n",
    "\n",
    "# Añadir columnas de año, mes, día y hora para análisis temporales\n",
    "df[\"year\"] = df[\"date\"].dt.year\n",
    "df[\"month\"] = df[\"date\"].dt.month\n",
    "df[\"day\"] = df[\"date\"].dt.day\n",
    "df[\"hour\"] = df[\"date\"].dt.hour\n",
    "\n",
    "# Agrupamos todos los datos en años, pasando de 2001-01-01 00:00:00+00:00 a los años correspondientes\n",
    "df[\"año\"] = df[\"date\"].dt.year\n",
    "\n",
    "# Creamos una lista con todos los contaminantes que se recogen\n",
    "contaminantes = [\"BEN\",\"CH4\",\"CO\",\"EBE\",\"NMHC\",\"NO\",\"NO2\",\"NOx\",\"O3\",\"PM10\",\"PM25\",\"SO2\",\"TCH\",\"TOL\"]\n",
    "\n",
    "# Agrupamos todos los datos de todos los contaminantes en años y entre todos los datos sacamos su media correspondiente\n",
    "resumen = df.groupby(\"año\")[contaminantes].mean().round(2)\n",
    "\n",
    "# Mostramos los datos\n",
    "display(resumen)\n",
    "\n",
    "# Para la mejora de este apartado, creamos una lista con la selección de los principales contaminantes\n",
    "principales = [\"NO2\", \"O3\", \"PM10\", \"PM25\"]\n",
    "\n",
    "# Filtrar el resumen solo a esos contaminantes\n",
    "resumen_principales = resumen[principales]\n",
    "\n",
    "# Creamos el gráfico y lo mostramos\n",
    "plt.figure(figsize=(10,6))\n",
    "for col in resumen_principales.columns:\n",
    "    plt.plot(resumen_principales.index, resumen_principales[col], marker=\"o\", label=col)\n",
    "\n",
    "plt.title(\"Evolución anual de contaminantes en Madrid (2001–2022)\")\n",
    "plt.xlabel(\"Año\")\n",
    "plt.ylabel(\"Concentración media\")\n",
    "plt.legend(title=\"Contaminantes principales\")\n",
    "# Mostramos el gráfico con delimitadores para mayor visibilidad\n",
    "plt.grid(True, linestyle=\"--\", alpha=0.6)\n",
    "plt.tight_layout()\n",
    "plt.show()"
   ]
  },
  {
   "cell_type": "markdown",
   "id": "c0dc3f53",
   "metadata": {},
   "source": [
    "- Mes con peor calidad del aire: ¿Qué mes tuvo la media más alta de NO₂ cada año? (gráfico de barras mensual por año).\n",
    "- Mejora: Mostrar el mes más crítico para cada año y visualizar la tendencia mensual agregada."
   ]
  },
  {
   "cell_type": "code",
   "execution_count": null,
   "id": "08f1407b",
   "metadata": {},
   "outputs": [],
   "source": [
    "# ---------- LIMPIEZA DE DATOS ----------\n",
    "# Convertimos NO2 de Float a Int\n",
    "df[\"NO2\"] = pd.to_numeric(df[\"NO2\"], errors=\"coerce\")\n",
    "\n",
    "# Eliminamos filas donde NO2 o date sean NaN\n",
    "df = df.dropna(subset=[\"date\", \"NO2\"])\n",
    "\n",
    "# Agrupamos los datos de date por mes\n",
    "df[\"mes\"] = df[\"date\"].dt.month\n",
    "\n",
    "# Obtenemos la media mensual de dióxido de nitrógeno NO2\n",
    "mensual_no2 = df.groupby([\"año\", \"mes\"])[\"NO2\"].mean().reset_index()\n",
    "\n",
    "# Obtenemos el mes con peor promedio de cada año\n",
    "peor_mes_anual = mensual_no2.loc[mensual_no2.groupby(\"año\")[\"NO2\"].idxmax()].copy()\n",
    "\n",
    "# Agregar el nombre del mes\n",
    "peor_mes_anual[\"mes_nombre\"] = peor_mes_anual[\"mes\"].apply(lambda x: calendar.month_abbr[x])\n",
    "\n",
    "# Gráfico\n",
    "plt.figure(figsize=(14,6))\n",
    "ax = sns.barplot(data=peor_mes_anual, x=\"año\", y=\"NO2\", dodge=False, color=\"skyblue\")\n",
    "\n",
    "# Añadir el nombre del mes encima de cada barra\n",
    "for p, mes in zip(ax.patches, peor_mes_anual[\"mes_nombre\"]):\n",
    "    height = p.get_height()\n",
    "    ax.text(\n",
    "        p.get_x() + p.get_width()/2.,  # posición horizontal: centro de la barra\n",
    "        height + 1,                    # posición vertical: un poco arriba de la barra\n",
    "        mes,                           # texto a mostrar\n",
    "        ha=\"center\",                   # centrar el texto horizontalmente\n",
    "        va=\"bottom\",                   # alinear el texto al fondo\n",
    "        fontsize=10,\n",
    "        fontweight=\"bold\"\n",
    "    )\n",
    "\n",
    "plt.title(\"Mes con peor calidad del aire (NO₂) por año\")\n",
    "plt.xlabel(\"Año\")\n",
    "plt.ylabel(\"Concentración media de NO₂ (µg/m³)\")\n",
    "plt.grid(axis=\"y\", linestyle=\"--\", alpha=0.6)\n",
    "plt.tight_layout()\n",
    "plt.show()"
   ]
  },
  {
   "cell_type": "markdown",
   "id": "c3919642",
   "metadata": {},
   "source": [
    "- Distribución de O₃: ¿Cuál es el rango de concentraciones de O₃ más frecuente? (histograma global y por año).\n",
    "- Mejora: Analizar la variabilidad anual y estacional de O₃."
   ]
  },
  {
   "cell_type": "code",
   "execution_count": null,
   "id": "971fda24",
   "metadata": {},
   "outputs": [],
   "source": [
    "# Histograma global de O3\n",
    "plt.figure(figsize=(10,5))\n",
    "sns.histplot(df[\"O3\"].dropna(), bins=50, color=\"skyblue\")\n",
    "plt.xlabel(\"Concentración de O₃ (µg/m³)\")\n",
    "plt.ylabel(\"Frecuencia\")\n",
    "plt.title(\"Distribución global de concentraciones de O₃ (2001–2022)\")\n",
    "plt.grid(axis=\"y\", linestyle=\"--\", alpha=0.6)\n",
    "plt.tight_layout()\n",
    "plt.show()\n",
    "\n",
    "# Histograma por año\n",
    "years = sorted(df[\"year\"].unique())\n",
    "n_years = len(years)\n",
    "\n",
    "fig, axes = plt.subplots(n_years//4 + 1, 4, figsize=(18, 3*(n_years//4 + 1)), sharex=True, sharey=True)\n",
    "axes = axes.flatten()\n",
    "\n",
    "for i, y in enumerate(years):\n",
    "    sns.histplot(df.loc[df[\"year\"] == y, \"O3\"].dropna(), bins=40, color=\"orange\", ax=axes[i])\n",
    "    axes[i].set_title(f\"Año {y}\")\n",
    "    axes[i].set_xlabel(\"O₃ (µg/m³)\")\n",
    "    axes[i].set_ylabel(\"Frecuencia\")\n",
    "\n",
    "# Eliminar subplots vacíos\n",
    "for j in range(i+1, len(axes)):\n",
    "    fig.delaxes(axes[j])\n",
    "\n",
    "plt.suptitle(\"Distribución anual de O₃ por año\", fontsize=16, y=1.02)\n",
    "plt.tight_layout()\n",
    "plt.show()\n",
    "\n",
    "# A partir de la media, obtenemos la evolución anual de O3\n",
    "o3_anual = df.groupby(\"year\")[\"O3\"].mean()\n",
    "\n",
    "plt.figure(figsize=(10,5))\n",
    "plt.plot(o3_anual.index, o3_anual.values, marker=\"o\", color=\"green\")\n",
    "plt.xlabel(\"Año\")\n",
    "plt.ylabel(\"Concentración media de O₃ (µg/m³)\")\n",
    "plt.title(\"Evolución anual de O₃ en Madrid (2001–2022)\")\n",
    "plt.grid(True, linestyle=\"--\", alpha=0.6)\n",
    "plt.tight_layout()\n",
    "plt.show()\n",
    "\n",
    "# Variabilidad estacional (promedio mensual de todos los años)\n",
    "o3_mensual = df.groupby(\"month\")[\"O3\"].mean()\n",
    "\n",
    "plt.figure(figsize=(10,5))\n",
    "plt.plot(o3_mensual.index, o3_mensual.values, marker=\"o\", color=\"darkred\")\n",
    "plt.xticks(range(1,13), [\"Ene\",\"Feb\",\"Mar\",\"Abr\",\"May\",\"Jun\",\"Jul\",\"Ago\",\"Sep\",\"Oct\",\"Nov\",\"Dic\"])\n",
    "plt.xlabel(\"Mes\")\n",
    "plt.ylabel(\"Concentración media de O₃ (µg/m³)\")\n",
    "plt.title(\"Variabilidad estacional de O₃ en Madrid (promedio mensual 2001–2022)\")\n",
    "plt.grid(True, linestyle=\"--\", alpha=0.6)\n",
    "plt.tight_layout()\n",
    "plt.show()\n"
   ]
  },
  {
   "cell_type": "markdown",
   "id": "49b8571d",
   "metadata": {},
   "source": [
    "- Picos diarios: ¿Qué día presentó la concentración más alta de PM10 en cada año?\n",
    "- Mejora: Visualizar los días de picos extremos y analizar si hay patrones estacionales o de eventos puntuales."
   ]
  },
  {
   "cell_type": "code",
   "execution_count": null,
   "id": "3c42bb19",
   "metadata": {},
   "outputs": [],
   "source": [
    "# Primero calculamos la media diaria de PM10\n",
    "pm10_diario = df.groupby(df[\"date\"].dt.date)[\"PM10\"].mean().reset_index()\n",
    "pm10_diario[\"date\"] = pd.to_datetime(pm10_diario[\"date\"])\n",
    "pm10_diario[\"year\"] = pm10_diario[\"date\"].dt.year\n",
    "pm10_diario[\"month\"] = pm10_diario[\"date\"].dt.month\n",
    "\n",
    "# Obtenemos el día con mayor PM10 en cada año\n",
    "pico_anual_pm10 = pm10_diario.loc[pm10_diario.groupby(\"year\")[\"PM10\"].idxmax()].copy()\n",
    "\n",
    "# Mostramos una tabla de resultados\n",
    "display(pico_anual_pm10[[\"year\", \"date\", \"PM10\"]])\n",
    "\n",
    "# Visualización de picos anuales\n",
    "plt.figure(figsize=(12,6))\n",
    "sns.barplot(data=pico_anual_pm10, x=\"year\", y=\"PM10\", color=\"coral\")\n",
    "\n",
    "# Anotar la fecha exacta sobre cada barra\n",
    "for p, fecha in zip(plt.gca().patches, pico_anual_pm10[\"date\"].dt.strftime(\"%d-%b\")):\n",
    "    height = p.get_height()\n",
    "    plt.text(p.get_x() + p.get_width()/2., height + 1, fecha,\n",
    "             ha=\"center\", va=\"bottom\", fontsize=9, rotation=90)\n",
    "\n",
    "plt.title(\"Día con mayor concentración de PM10 por año (2001–2022)\")\n",
    "plt.xlabel(\"Año\")\n",
    "plt.ylabel(\"Concentración media diaria de PM10 (µg/m³)\")\n",
    "plt.grid(axis=\"y\", linestyle=\"--\", alpha=0.6)\n",
    "plt.tight_layout()\n",
    "plt.show()\n",
    "\n",
    "# ---------- DISTRIBUCIÓN ESTACIONAL DE PICOS ----------\n",
    "\n",
    "# Extraemos solo el mes de los picos\n",
    "pico_anual_pm10[\"mes_nombre\"] = pico_anual_pm10[\"month\"].apply(lambda x: calendar.month_abbr[x])\n",
    "\n",
    "plt.figure(figsize=(10,5))\n",
    "sns.countplot(data=pico_anual_pm10, x=\"mes_nombre\", order=[\"Jan\",\"Feb\",\"Mar\",\"Apr\",\"May\",\"Jun\",\"Jul\",\"Aug\",\"Sep\",\"Oct\",\"Nov\",\"Dec\"], color=\"steelblue\")\n",
    "plt.title(\"Distribución estacional de los picos anuales de PM10\")\n",
    "plt.xlabel(\"Mes\")\n",
    "plt.ylabel(\"Número de picos\")\n",
    "plt.tight_layout()\n",
    "plt.show()\n",
    "\n",
    "# Creamos una línea temporal con todos los máximos diarios\n",
    "plt.figure(figsize=(14,6))\n",
    "plt.plot(pm10_diario[\"date\"], pm10_diario[\"PM10\"], alpha=0.4, color=\"gray\", label=\"PM10 diario\")\n",
    "plt.scatter(pico_anual_pm10[\"date\"], pico_anual_pm10[\"PM10\"], color=\"red\", s=60, label=\"Picos anuales\")\n",
    "plt.title(\"Evolución de PM10 diario con picos anuales destacados\")\n",
    "plt.xlabel(\"Fecha\")\n",
    "plt.ylabel(\"PM10 (µg/m³)\")\n",
    "plt.legend()\n",
    "plt.grid(True, linestyle=\"--\", alpha=0.6)\n",
    "plt.tight_layout()\n",
    "plt.show()\n"
   ]
  },
  {
   "cell_type": "markdown",
   "id": "dd558598",
   "metadata": {},
   "source": [
    "## 🌍 David (comparaciones y correlaciones)\n",
    "\n",
    "- Estacionalidad en un año: ¿Qué contaminante presenta mayores diferencias entre invierno y verano?\n",
    "- Mejora: Analizar la estacionalidad de todos los contaminantes y visualizar la diferencia entre estaciones."
   ]
  },
  {
   "cell_type": "code",
   "execution_count": null,
   "id": "b8a9a39d",
   "metadata": {},
   "outputs": [],
   "source": []
  },
  {
   "cell_type": "markdown",
   "id": "1a678d76",
   "metadata": {},
   "source": [
    "- Correlación: ¿Existe correlación entre los niveles diarios de NO₂ y CO en el periodo analizado?\n",
    "- Mejora: Analizar correlaciones entre más contaminantes y visualizar la matriz de correlación."
   ]
  },
  {
   "cell_type": "code",
   "execution_count": null,
   "id": "d87f4d80",
   "metadata": {},
   "outputs": [],
   "source": []
  },
  {
   "cell_type": "markdown",
   "id": "5aa6067f",
   "metadata": {},
   "source": [
    "- Laborables vs fines de semana: ¿Hay diferencias en los niveles de NO₂ promedio entre días laborables y fines de semana?\n",
    "- Mejora: Analizar diferencias para más contaminantes y visualizar la variación semanal."
   ]
  },
  {
   "cell_type": "code",
   "execution_count": null,
   "id": "37c11843",
   "metadata": {},
   "outputs": [],
   "source": []
  },
  {
   "cell_type": "markdown",
   "id": "433636bc",
   "metadata": {},
   "source": [
    "- Variación horaria: ¿A qué horas del día se concentran los picos de NO₂ en promedio durante el año? (curva horaria).\n",
    "- Mejora: Analizar la variación horaria de más contaminantes y comparar entre años."
   ]
  },
  {
   "cell_type": "code",
   "execution_count": null,
   "id": "788cad92",
   "metadata": {},
   "outputs": [],
   "source": []
  }
 ],
 "metadata": {
  "kernelspec": {
   "display_name": "Python 3",
   "language": "python",
   "name": "python3"
  },
  "language_info": {
   "codemirror_mode": {
    "name": "ipython",
    "version": 3
   },
   "file_extension": ".py",
   "mimetype": "text/x-python",
   "name": "python",
   "nbconvert_exporter": "python",
   "pygments_lexer": "ipython3",
   "version": "3.10.11"
  }
 },
 "nbformat": 4,
 "nbformat_minor": 5
}
