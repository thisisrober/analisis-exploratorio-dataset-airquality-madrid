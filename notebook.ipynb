{
 "cells": [
  {
   "cell_type": "markdown",
   "id": "f2b8ae2c",
   "metadata": {},
   "source": [
    "# 🔎 Análisis Exploratorio: La Calidad del Aire en Madrid (2001-2022)\n",
    "\n",
    "Este proyecto utiliza el dataset “MadridPolution2001-2022.csv”, que contiene registros horarios de contaminantes atmosféricos medidos en la estación Escuelas Aguirre (Madrid) desde enero de 2001 hasta marzo de 2022. El objetivo es analizar la calidad del aire en el centro de Madrid a lo largo de dos décadas y descubrir cómo ha cambiado la contaminación en la ciudad, identificando tendencias a largo plazo, patrones estacionales y episodios de polución extrema. Para ello, se estudiarán los registros horarios de 14 contaminantes clave, tomados desde enero de 2001 hasta marzo de 2022.\n",
    "\n",
    "A continuación, se detalla qué es cada uno de estos contaminantes y por qué es importante medirlos.\n",
    "\n",
    "---\n",
    "\n",
    "## ¿Qué contaminantes se miden y qué significan?\n",
    "\n",
    "Los datos recogidos incluyen diferentes tipos de partículas y gases que afectan tanto a nuestra salud como al medio ambiente. Se pueden agrupar en las siguientes categorías:\n",
    "\n",
    "### 💨 Partículas en suspensión: El polvo que no se ve\n",
    "\n",
    "Son pequeñas partículas sólidas y líquidas que flotan en el aire. Su peligrosidad depende de su tamaño: cuanto más pequeñas, más profundamente pueden penetrar en nuestros pulmones.\n",
    "\n",
    "* **PM10**: Partículas con un diámetro inferior a 10 micrómetros. Incluyen polvo, polen, cenizas y hollín. Pueden irritar los ojos, la nariz y la garganta.\n",
    "* **PM2.5**: Partículas con un diámetro inferior a 2.5 micrómetros, también conocidas como \"partículas finas\". Son mucho más peligrosas, ya que pueden llegar a los alvéolos pulmonares e incluso pasar al torrente sanguíneo. Se originan principalmente en la quema de combustibles de vehículos e industria.\n",
    "\n",
    "### 🚗 Gases relacionados con el tráfico y la combustión\n",
    "\n",
    "La mayoría de estos gases se producen al quemar combustibles como la gasolina, el diésel o el gas natural. Son los principales responsables de la \"boina\" de contaminación de las grandes ciudades.\n",
    "\n",
    "* **CO (Monóxido de carbono)**: Un gas tóxico que se genera cuando la combustión es incompleta. Su principal fuente en las ciudades son los tubos de escape de los coches.\n",
    "* **NO (Monóxido de nitrógeno)** y **NO2 (Dióxido de nitrógeno)**: Comúnmente agrupados como **NOx (Óxidos de nitrógeno)**, son gases que se forman a altas temperaturas en los motores de los vehículos y en las centrales eléctricas. El NO2 es el gas de color marrón-rojizo que se ve en las nubes de contaminación y está directamente relacionado con enfermedades respiratorias.\n",
    "* **SO2 (Dióxido de azufre)**: Proviene principalmente de la quema de combustibles fósiles con contenido de azufre, como el carbón y el petróleo, en la industria y la calefacción. Es uno de los causantes de la lluvia ácida.\n",
    "\n",
    "### ☀️ Ozono \"malo\": Un contaminante de verano\n",
    "\n",
    "* **O3 (Ozono)**: A diferencia del ozono bueno de la estratosfera que nos protege del sol, el ozono a nivel del suelo es un contaminante. No se emite directamente, sino que se forma cuando los óxidos de nitrógeno (NOx) y otros compuestos reaccionan con la luz solar. Por eso, sus niveles suelen ser más altos en días soleados y calurosos, provocando irritación en las vías respiratorias.\n",
    "\n",
    "### ⛽ Compuestos Orgánicos Volátiles (COVs)\n",
    "\n",
    "Son un grupo amplio de sustancias químicas que se evaporan fácilmente a temperatura ambiente. Proceden de los combustibles, disolventes, pinturas y también de los tubos de escape.\n",
    "\n",
    "* **BEN (Benceno)**, **TOL (Tolueno)** y **EBE (Etilbenceno)**: Son compuestos aromáticos derivados del petróleo, muy presentes en la gasolina. Son tóxicos y el benceno, en particular, es un conocido cancerígeno.\n",
    "* **CH4 (Metano)**, **NMHC (Hidrocarburos no metánicos)** y **TCH (Hidrocarburos totales)**: Estos términos agrupan a todos los compuestos de hidrocarburos en el aire. El metano (CH4) es un potente gas de efecto invernadero, mientras que los NMHC son importantes porque contribuyen a la formación de ozono. El TCH es simplemente la suma de ambos.\n",
    "\n",
    "El análisis de estas variables nos permitirá obtener una radiografía completa de la evolución del aire que respiramos en Madrid y entender mejor el impacto de nuestras actividades diarias en el entorno urbano."
   ]
  },
  {
   "cell_type": "markdown",
   "id": "039ebf67",
   "metadata": {},
   "source": [
    "## 🌱 Alba (limpieza y calidad de datos)\n",
    "\n",
    "Convertimos la columna Time, originalmente en formato string, a tipo datetime para asegurar consistencia temporal y permitir análisis por fecha y hora. También creamos nuevas columnas (year, month, day, hour) a partir de la columna de fecha para facilitar el análisis exploratorio por periodos de tiempo."
   ]
  },
  {
   "cell_type": "code",
   "execution_count": null,
   "id": "9d881257",
   "metadata": {},
   "outputs": [],
   "source": [
    "import pandas as pd\n",
    "import matplotlib.pyplot as plt\n",
    "import matplotlib.ticker as mticker\n",
    "\n",
    "# Cargar el dataset\n",
    "csv_path = r\"data/MadridPolution2001-2022.csv\"\n",
    "\n",
    "# Leer sin parsear fechas inicialmente para detectar el nombre de columna correcto\n",
    "df = pd.read_csv(csv_path)\n",
    "\n",
    "# --- LIMPIEZA DE FECHA ---\n",
    "# La columna \"time\" la convertimos directamente a datetime\n",
    "df[\"Time\"] = pd.to_datetime(df[\"Time\"], errors=\"coerce\") # Con errors=\"coerce\"\n",
    "\n",
    "# Verificamos si se han generado nulos al convertir la columna \"Time\" a formato datetime\n",
    "print(\"Nulos en la columna Time después de la conversión: \", df[\"Time\"].isna().sum())\n",
    "\n",
    "# Creamos columnas auxiliares para explorar temporalmente el dataset, pero de momento no haremos una limpieza estricta\n",
    "df[\"year\"] = df[\"Time\"].dt.year\n",
    "df[\"month\"] = df[\"Time\"].dt.month\n",
    "df[\"day\"] = df[\"Time\"].dt.day\n",
    "df[\"hour\"] = df[\"Time\"].dt.hour\n",
    "\n",
    "\n",
    "# Mostramos los resultados\n",
    "print(\"Columnas detectadas en el CSV:\", df.columns.tolist())\n",
    "print(\"Dimensiones del dataset:\", df.shape)\n",
    "print(df.head(10))"
   ]
  },
  {
   "cell_type": "markdown",
   "id": "8e688d6b",
   "metadata": {},
   "source": [
    "Analizamos la presencia de valores nulos en todas las columnas y calculamos su porcentaje respecto al total de filas, identificando aquellas variables con mayor pérdida de información"
   ]
  },
  {
   "cell_type": "code",
   "execution_count": null,
   "id": "bc1938ee",
   "metadata": {},
   "outputs": [],
   "source": [
    "# Contamos la cantidad de nulos que hay en cada columna\n",
    "total_filas = len(df)\n",
    "\n",
    "nulos_por_columna = df.isnull().sum()\n",
    "\n",
    "conteo_de_nulos = nulos_por_columna.to_frame(\"Nulos\").assign(Porcentaje=lambda x: (x[\"Nulos\"] / total_filas * 100).round(2)).sort_values(\"Nulos\", ascending=False)\n",
    "\n",
    "print(\"--- Cantidad total de nulos en cada columna y porcentaje---\")\n",
    "print(conteo_de_nulos)"
   ]
  },
  {
   "cell_type": "markdown",
   "id": "d5e1229f",
   "metadata": {},
   "source": [
    "Añadimos un gráfico de barras para poder representar de forma más visual cuales son las columnas que tienen una mayor cantidad de nulos en sus filas. De esta manera podemos determinar qué variables presentan problemas de calidad de datos debido a la alta proporción de valores ausentes, lo que afecta la representatividad de las mediciones y debe considerarse en futuros análisis."
   ]
  },
  {
   "cell_type": "code",
   "execution_count": null,
   "id": "35e94dba",
   "metadata": {},
   "outputs": [],
   "source": [
    "conteo_de_nulos['Porcentaje'].plot(kind=\"bar\", color='red', legend=False)\n",
    "plt.title(\"Porcentaje de valores nulos en cada columna\")\n",
    "plt.xlabel(\"Columnas del DataSet\")\n",
    "plt.ylabel(\"Valores nulos (%)\")\n",
    "\n",
    "plt.grid(True, axis='y', linestyle='--', alpha=0.7)\n",
    "\n",
    "plt.ylim(0, 100)\n",
    "ejes = plt.gca()\n",
    "ejes.yaxis.set_major_formatter(mticker.FuncFormatter(lambda y, _: f'{int(y)}%'))\n",
    "plt.show()"
   ]
  },
  {
   "cell_type": "markdown",
   "id": "bd46ff97",
   "metadata": {},
   "source": [
    "En base a los resultados, podemos comprobar que la columna que tiene un mayor valor de nulos es la de `PM25`, con casi un 40% de valores nulos. Después, tenemos otras tres columnas con un porcentaje de valores nulos por debajo del 20% que serían `NMHC`, `TCH` y `CH4`. Después, el resto de columnas tienen porcentajes de nulos muy bajos y en caso de las columnas que representan la fecha (`Time`, `year`, `month`, `day`, `hour`) tienen un porcentaje del 0%, por lo que a pesar de que haya contaminantes con un porcentaje de nulos más o menos alto, podremos realizar un análasis temporal completo, ya que tenemos todos los valores con fecha y hora."
   ]
  },
  {
   "cell_type": "markdown",
   "id": "a23e1308",
   "metadata": {},
   "source": [
    "Comprobamos la existencia de filas duplicadas en el dataset y evaluamos su impacto, eliminándolas en caso de ser necesario para evitar sesgos en el análisis."
   ]
  },
  {
   "cell_type": "code",
   "execution_count": null,
   "id": "ae9fab16",
   "metadata": {},
   "outputs": [],
   "source": [
    "duplicados = df.duplicated().sum()\n",
    "print(f\"Numero de filas duplicadas: {duplicados}\")\n",
    "\n",
    "# En caso de que detectase algún duplicado, con el método drop_duplicates eliminaría la columna entera\n",
    "if duplicados > 0:\n",
    "    df.drop_duplicates()\n",
    "    print(\"Duplicados eliminados. Nuevo tamaño del dataset: \", df.shape)"
   ]
  },
  {
   "cell_type": "markdown",
   "id": "0c12847a",
   "metadata": {},
   "source": [
    "Revisamos los tipos de datos de cada columna para asegurar que las variables numéricas se encuentren en formato correcto (float/int) y no en formato texto, evitando errores en el procesamiento posterior."
   ]
  },
  {
   "cell_type": "code",
   "execution_count": 10,
   "id": "af97ebf9",
   "metadata": {},
   "outputs": [
    {
     "name": "stdout",
     "output_type": "stream",
     "text": [
      "\n",
      "Tipos de datos detectados en el dataset:\n",
      "Time     datetime64[ns, UTC]\n",
      "BEN                  float64\n",
      "CH4                  float64\n",
      "CO                   float64\n",
      "EBE                  float64\n",
      "NMHC                 float64\n",
      "NO                   float64\n",
      "NO2                  float64\n",
      "NOx                  float64\n",
      "O3                   float64\n",
      "PM10                 float64\n",
      "PM25                 float64\n",
      "SO2                  float64\n",
      "TCH                  float64\n",
      "TOL                  float64\n",
      "year                   int32\n",
      "month                  int32\n",
      "day                    int32\n",
      "hour                   int32\n",
      "dtype: object\n",
      "\n",
      "Columnas tipo 'object' (texto): []\n"
     ]
    }
   ],
   "source": [
    "print(\"\\nTipos de datos detectados en el dataset:\")\n",
    "print(df.dtypes)\n",
    "\n",
    "# Comprobamos si hay columnas numéricas cargadas como texto\n",
    "numeric_cols = df.select_dtypes(include=[\"object\"]).columns\n",
    "print(\"\\nColumnas tipo 'object' (texto):\", numeric_cols.tolist())"
   ]
  },
  {
   "cell_type": "markdown",
   "id": "8355f08f",
   "metadata": {},
   "source": [
    "Analizamos si existen valores anómalos o fuera de rango en las variables (ej. concentraciones negativas o valores extremadamente altos) para garantizar la coherencia de las mediciones."
   ]
  },
  {
   "cell_type": "code",
   "execution_count": 11,
   "id": "cbf282f2",
   "metadata": {},
   "outputs": [
    {
     "name": "stdout",
     "output_type": "stream",
     "text": [
      "\n",
      "Valores negativos por columna:\n",
      "Series([], dtype: int64)\n",
      "\n",
      "Rangos de valores por columna:\n",
      "          min     max\n",
      "BEN       0.0    43.0\n",
      "CH4       0.0     4.0\n",
      "CO        0.0    10.0\n",
      "EBE       0.0    81.0\n",
      "NMHC      0.0     9.0\n",
      "NO        1.0  1041.0\n",
      "NO2       4.0   402.0\n",
      "NOx       5.0  1910.0\n",
      "O3        0.0   199.0\n",
      "PM10      1.0   367.0\n",
      "PM25      0.0   215.0\n",
      "SO2       1.0   158.0\n",
      "TCH       0.0    10.0\n",
      "TOL       0.0   174.0\n",
      "year   2001.0  2022.0\n",
      "month     1.0    12.0\n",
      "day       1.0    31.0\n",
      "hour      0.0    23.0\n"
     ]
    }
   ],
   "source": [
    "# Buscar valores negativos en las columnas numéricas\n",
    "negativos = (df.select_dtypes(include=[\"float64\", \"int64\"]) < 0).sum()\n",
    "print(\"\\nValores negativos por columna:\")\n",
    "print(negativos[negativos > 0])\n",
    "\n",
    "# Ver rango de cada variable (mínimo y máximo)\n",
    "rangos = df.describe().T[[\"min\", \"max\"]]\n",
    "print(\"\\nRangos de valores por columna:\")\n",
    "print(rangos)"
   ]
  },
  {
   "cell_type": "markdown",
   "id": "f14aa2bd",
   "metadata": {},
   "source": [
    "## 📊 Robert (análisis general y descriptivo)\n",
    "\n",
    "- Promedio anual: ¿Cuál es la concentración media de cada contaminante por año? (tabla resumen por año y contaminante).\n",
    "- Mejora: Visualizar la evolución anual de los principales contaminantes con gráficos de líneas.\n"
   ]
  },
  {
   "cell_type": "code",
   "execution_count": null,
   "id": "20769903",
   "metadata": {},
   "outputs": [],
   "source": []
  },
  {
   "cell_type": "markdown",
   "id": "c0dc3f53",
   "metadata": {},
   "source": [
    "- Mes con peor calidad del aire: ¿Qué mes tuvo la media más alta de NO₂ cada año? (gráfico de barras mensual por año).\n",
    "- Mejora: Mostrar el mes más crítico para cada año y visualizar la tendencia mensual agregada."
   ]
  },
  {
   "cell_type": "code",
   "execution_count": null,
   "id": "08f1407b",
   "metadata": {},
   "outputs": [],
   "source": []
  },
  {
   "cell_type": "markdown",
   "id": "c3919642",
   "metadata": {},
   "source": [
    "- Distribución de O₃: ¿Cuál es el rango de concentraciones de O₃ más frecuente? (histograma global y por año).\n",
    "- Mejora: Analizar la variabilidad anual y estacional de O₃."
   ]
  },
  {
   "cell_type": "code",
   "execution_count": null,
   "id": "971fda24",
   "metadata": {},
   "outputs": [],
   "source": []
  },
  {
   "cell_type": "markdown",
   "id": "49b8571d",
   "metadata": {},
   "source": [
    "- Picos diarios: ¿Qué día presentó la concentración más alta de PM10 en cada año?\n",
    "- Mejora: Visualizar los días de picos extremos y analizar si hay patrones estacionales o de eventos puntuales."
   ]
  },
  {
   "cell_type": "code",
   "execution_count": null,
   "id": "3c42bb19",
   "metadata": {},
   "outputs": [],
   "source": []
  },
  {
   "cell_type": "markdown",
   "id": "dd558598",
   "metadata": {},
   "source": [
    "## 🌍 David (comparaciones y correlaciones)\n",
    "\n",
    "- Estacionalidad en un año: ¿Qué contaminante presenta mayores diferencias entre invierno y verano?\n",
    "- Mejora: Analizar la estacionalidad de todos los contaminantes y visualizar la diferencia entre estaciones."
   ]
  },
  {
   "cell_type": "code",
   "execution_count": null,
   "id": "b8a9a39d",
   "metadata": {},
   "outputs": [],
   "source": []
  },
  {
   "cell_type": "markdown",
   "id": "1a678d76",
   "metadata": {},
   "source": [
    "- Correlación: ¿Existe correlación entre los niveles diarios de NO₂ y CO en el periodo analizado?\n",
    "- Mejora: Analizar correlaciones entre más contaminantes y visualizar la matriz de correlación."
   ]
  },
  {
   "cell_type": "code",
   "execution_count": null,
   "id": "d87f4d80",
   "metadata": {},
   "outputs": [],
   "source": []
  },
  {
   "cell_type": "markdown",
   "id": "5aa6067f",
   "metadata": {},
   "source": [
    "- Laborables vs fines de semana: ¿Hay diferencias en los niveles de NO₂ promedio entre días laborables y fines de semana?\n",
    "- Mejora: Analizar diferencias para más contaminantes y visualizar la variación semanal."
   ]
  },
  {
   "cell_type": "code",
   "execution_count": null,
   "id": "37c11843",
   "metadata": {},
   "outputs": [],
   "source": []
  },
  {
   "cell_type": "markdown",
   "id": "433636bc",
   "metadata": {},
   "source": [
    "- Variación horaria: ¿A qué horas del día se concentran los picos de NO₂ en promedio durante el año? (curva horaria).\n",
    "- Mejora: Analizar la variación horaria de más contaminantes y comparar entre años."
   ]
  },
  {
   "cell_type": "code",
   "execution_count": null,
   "id": "788cad92",
   "metadata": {},
   "outputs": [],
   "source": []
  }
 ],
 "metadata": {
  "kernelspec": {
   "display_name": "Python 3",
   "language": "python",
   "name": "python3"
  },
  "language_info": {
   "codemirror_mode": {
    "name": "ipython",
    "version": 3
   },
   "file_extension": ".py",
   "mimetype": "text/x-python",
   "name": "python",
   "nbconvert_exporter": "python",
   "pygments_lexer": "ipython3",
   "version": "3.12.6"
  }
 },
 "nbformat": 4,
 "nbformat_minor": 5
}
