{
 "cells": [
  {
   "cell_type": "markdown",
   "id": "f2b8ae2c",
   "metadata": {},
   "source": [
    "# 🔎 Análisis exploratorio del dataset Madrid Polution (2001- 2022)\n",
    "\n",
    "Este proyecto utiliza el dataset “MadridPolution2001-2022.csv”, que contiene registros horarios de contaminantes atmosféricos medidos en la estación Escuelas Aguirre (Madrid) desde enero de 2001 hasta marzo de 2022. El objetivo principal es analizar la evolución de la calidad del aire en Madrid, identificando tendencias, picos y patrones estacionales en los principales contaminantes.\n",
    "\n",
    "El dataset incluye las siguientes variables:\n",
    "- **BEN**: Benceno (µg/m³)\n",
    "- **CH4**: Metano (mg/m³)\n",
    "- **CO**: Monóxido de carbono (mg/m³)\n",
    "- **EBE**: Etilbenceno (µg/m³)\n",
    "- **NMHC**: Hidrocarburos no metánicos (mg/m³)\n",
    "- **NO**: Monóxido de nitrógeno (µg/m³)\n",
    "- **NO2**: Dióxido de nitrógeno (µg/m³)\n",
    "- **NOx**: Óxidos de nitrógeno (µg/m³)\n",
    "- **O3**: Ozono (µg/m³)\n",
    "- **PM10**: Partículas < 10 µm (µg/m³)\n",
    "- **PM25**: Partículas < 2.5 µm (µg/m³)\n",
    "- **SO2**: Dióxido de azufre (µg/m³)\n",
    "- **TCH**: Hidrocarburos totales (mg/m³)\n",
    "- **TOL**: Tolueno (µg/m³)\n",
    "\n",
    "El análisis se centra en la evolución temporal, la comparación entre contaminantes y la identificación de patrones estacionales y extremos. Se proponen mejoras en los ejercicios para aprovechar la riqueza temporal y de variables del nuevo dataset."
   ]
  },
  {
   "cell_type": "code",
   "execution_count": 11,
   "id": "564b2a80",
   "metadata": {},
   "outputs": [
    {
     "name": "stdout",
     "output_type": "stream",
     "text": [
      "Columnas detectadas en el CSV: ['Time', 'BEN', 'CH4', 'CO', 'EBE', 'NMHC', 'NO', 'NO2', 'NOx', 'O3', 'PM10', 'PM25', 'SO2', 'TCH', 'TOL']\n",
      "Dimensiones del dataset: (172622, 15)\n",
      "Columnas: ['date', 'BEN', 'CH4', 'CO', 'EBE', 'NMHC', 'NO', 'NO2', 'NOx', 'O3', 'PM10', 'PM25', 'SO2', 'TCH', 'TOL']\n",
      "Dimensiones del dataset: (172622, 15)\n",
      "Columnas: ['date', 'BEN', 'CH4', 'CO', 'EBE', 'NMHC', 'NO', 'NO2', 'NOx', 'O3', 'PM10', 'PM25', 'SO2', 'TCH', 'TOL']\n"
     ]
    },
    {
     "data": {
      "text/html": [
       "<div>\n",
       "<style scoped>\n",
       "    .dataframe tbody tr th:only-of-type {\n",
       "        vertical-align: middle;\n",
       "    }\n",
       "\n",
       "    .dataframe tbody tr th {\n",
       "        vertical-align: top;\n",
       "    }\n",
       "\n",
       "    .dataframe thead th {\n",
       "        text-align: right;\n",
       "    }\n",
       "</style>\n",
       "<table border=\"1\" class=\"dataframe\">\n",
       "  <thead>\n",
       "    <tr style=\"text-align: right;\">\n",
       "      <th></th>\n",
       "      <th>date</th>\n",
       "      <th>BEN</th>\n",
       "      <th>CH4</th>\n",
       "      <th>CO</th>\n",
       "      <th>EBE</th>\n",
       "      <th>NMHC</th>\n",
       "      <th>NO</th>\n",
       "      <th>NO2</th>\n",
       "      <th>NOx</th>\n",
       "      <th>O3</th>\n",
       "      <th>PM10</th>\n",
       "      <th>PM25</th>\n",
       "      <th>SO2</th>\n",
       "      <th>TCH</th>\n",
       "      <th>TOL</th>\n",
       "    </tr>\n",
       "  </thead>\n",
       "  <tbody>\n",
       "    <tr>\n",
       "      <th>0</th>\n",
       "      <td>2001-01-01 00:00:00+00:00</td>\n",
       "      <td>4.0</td>\n",
       "      <td>NaN</td>\n",
       "      <td>0.0</td>\n",
       "      <td>2.0</td>\n",
       "      <td>NaN</td>\n",
       "      <td>66.0</td>\n",
       "      <td>67.0</td>\n",
       "      <td>168.0</td>\n",
       "      <td>7.0</td>\n",
       "      <td>32.0</td>\n",
       "      <td>NaN</td>\n",
       "      <td>26.0</td>\n",
       "      <td>NaN</td>\n",
       "      <td>11.0</td>\n",
       "    </tr>\n",
       "    <tr>\n",
       "      <th>1</th>\n",
       "      <td>2001-01-01 01:00:00+00:00</td>\n",
       "      <td>9.0</td>\n",
       "      <td>NaN</td>\n",
       "      <td>0.0</td>\n",
       "      <td>5.0</td>\n",
       "      <td>NaN</td>\n",
       "      <td>146.0</td>\n",
       "      <td>71.0</td>\n",
       "      <td>294.0</td>\n",
       "      <td>7.0</td>\n",
       "      <td>41.0</td>\n",
       "      <td>NaN</td>\n",
       "      <td>21.0</td>\n",
       "      <td>NaN</td>\n",
       "      <td>21.0</td>\n",
       "    </tr>\n",
       "    <tr>\n",
       "      <th>2</th>\n",
       "      <td>2001-01-01 02:00:00+00:00</td>\n",
       "      <td>9.0</td>\n",
       "      <td>NaN</td>\n",
       "      <td>0.0</td>\n",
       "      <td>5.0</td>\n",
       "      <td>NaN</td>\n",
       "      <td>190.0</td>\n",
       "      <td>73.0</td>\n",
       "      <td>364.0</td>\n",
       "      <td>7.0</td>\n",
       "      <td>50.0</td>\n",
       "      <td>NaN</td>\n",
       "      <td>22.0</td>\n",
       "      <td>NaN</td>\n",
       "      <td>24.0</td>\n",
       "    </tr>\n",
       "    <tr>\n",
       "      <th>3</th>\n",
       "      <td>2001-01-01 03:00:00+00:00</td>\n",
       "      <td>10.0</td>\n",
       "      <td>NaN</td>\n",
       "      <td>0.0</td>\n",
       "      <td>5.0</td>\n",
       "      <td>NaN</td>\n",
       "      <td>170.0</td>\n",
       "      <td>75.0</td>\n",
       "      <td>335.0</td>\n",
       "      <td>7.0</td>\n",
       "      <td>55.0</td>\n",
       "      <td>NaN</td>\n",
       "      <td>19.0</td>\n",
       "      <td>NaN</td>\n",
       "      <td>25.0</td>\n",
       "    </tr>\n",
       "    <tr>\n",
       "      <th>4</th>\n",
       "      <td>2001-01-01 04:00:00+00:00</td>\n",
       "      <td>8.0</td>\n",
       "      <td>NaN</td>\n",
       "      <td>0.0</td>\n",
       "      <td>4.0</td>\n",
       "      <td>NaN</td>\n",
       "      <td>102.0</td>\n",
       "      <td>67.0</td>\n",
       "      <td>224.0</td>\n",
       "      <td>8.0</td>\n",
       "      <td>42.0</td>\n",
       "      <td>NaN</td>\n",
       "      <td>14.0</td>\n",
       "      <td>NaN</td>\n",
       "      <td>21.0</td>\n",
       "    </tr>\n",
       "  </tbody>\n",
       "</table>\n",
       "</div>"
      ],
      "text/plain": [
       "                       date   BEN  CH4   CO  EBE  NMHC     NO   NO2    NOx  \\\n",
       "0 2001-01-01 00:00:00+00:00   4.0  NaN  0.0  2.0   NaN   66.0  67.0  168.0   \n",
       "1 2001-01-01 01:00:00+00:00   9.0  NaN  0.0  5.0   NaN  146.0  71.0  294.0   \n",
       "2 2001-01-01 02:00:00+00:00   9.0  NaN  0.0  5.0   NaN  190.0  73.0  364.0   \n",
       "3 2001-01-01 03:00:00+00:00  10.0  NaN  0.0  5.0   NaN  170.0  75.0  335.0   \n",
       "4 2001-01-01 04:00:00+00:00   8.0  NaN  0.0  4.0   NaN  102.0  67.0  224.0   \n",
       "\n",
       "    O3  PM10  PM25   SO2  TCH   TOL  \n",
       "0  7.0  32.0   NaN  26.0  NaN  11.0  \n",
       "1  7.0  41.0   NaN  21.0  NaN  21.0  \n",
       "2  7.0  50.0   NaN  22.0  NaN  24.0  \n",
       "3  7.0  55.0   NaN  19.0  NaN  25.0  \n",
       "4  8.0  42.0   NaN  14.0  NaN  21.0  "
      ]
     },
     "metadata": {},
     "output_type": "display_data"
    }
   ],
   "source": [
    "import pandas as pd\n",
    "import matplotlib.pyplot as plt\n",
    "\n",
    "# Cargar el nuevo dataset\n",
    "csv_path = r\"data/MadridPolution2001-2022.csv\"\n",
    "\n",
    "# Leer sin parsear fechas inicialmente para detectar el nombre de columna correcto\n",
    "df = pd.read_csv(csv_path)\n",
    "\n",
    "print(\"Columnas detectadas en el CSV:\", df.columns.tolist())\n",
    "\n",
    "# Buscar columna de fecha independientemente de mayúsculas/minúsculas\n",
    "date_col = next((c for c in df.columns if c.lower() in (\"date\", \"fecha\", \"datetime\", \"timestamp\", \"time\", \"date_time\")), None)\n",
    "if date_col is None:\n",
    "    # intentar encontrar una columna que contenga 'date' en su nombre\n",
    "    date_col = next((c for c in df.columns if \"date\" in c.lower()), None)\n",
    "\n",
    "if date_col is None:\n",
    "    raise ValueError(f\"No se encontró una columna de fecha en {csv_path}. Columnas: {df.columns.tolist()}\")\n",
    "\n",
    "# Convertir a datetime (usar errors='coerce' para evitar excepción por formatos inesperados)\n",
    "df[date_col] = pd.to_datetime(df[date_col], dayfirst=True, errors=\"coerce\")\n",
    "\n",
    "# Renombrar la columna de fecha a 'date' para homogeneidad\n",
    "if date_col != \"date\":\n",
    "    df = df.rename(columns={date_col: \"date\"})\n",
    "\n",
    "# Mostrar información general\n",
    "print(\"Dimensiones del dataset:\", df.shape)\n",
    "print(\"Columnas:\", df.columns.tolist())\n",
    "display(df.head())\n",
    "\n",
    "# Asegurar que la columna 'date' esté en formato datetime\n",
    "if not pd.api.types.is_datetime64_any_dtype(df[\"date\"]):\n",
    "    df[\"date\"] = pd.to_datetime(df[\"date\"], dayfirst=True, errors=\"coerce\")\n",
    "\n",
    "# Añadir columnas de año, mes, día y hora para análisis temporales\n",
    "df[\"year\"] = df[\"date\"].dt.year\n",
    "df[\"month\"] = df[\"date\"].dt.month\n",
    "df[\"day\"] = df[\"date\"].dt.day\n",
    "df[\"hour\"] = df[\"date\"].dt.hour"
   ]
  },
  {
   "cell_type": "markdown",
   "id": "f14aa2bd",
   "metadata": {},
   "source": [
    "## 📊 Robert (análisis general y descriptivo)\n",
    "\n",
    "- Promedio anual: ¿Cuál es la concentración media de cada contaminante por año? (tabla resumen por año y contaminante).\n",
    "- Mejora: Visualizar la evolución anual de los principales contaminantes con gráficos de líneas.\n"
   ]
  },
  {
   "cell_type": "code",
   "execution_count": null,
   "id": "20769903",
   "metadata": {},
   "outputs": [],
   "source": []
  },
  {
   "cell_type": "markdown",
   "id": "c0dc3f53",
   "metadata": {},
   "source": [
    "- Mes con peor calidad del aire: ¿Qué mes tuvo la media más alta de NO₂ cada año? (gráfico de barras mensual por año).\n",
    "- Mejora: Mostrar el mes más crítico para cada año y visualizar la tendencia mensual agregada."
   ]
  },
  {
   "cell_type": "code",
   "execution_count": null,
   "id": "08f1407b",
   "metadata": {},
   "outputs": [],
   "source": []
  },
  {
   "cell_type": "markdown",
   "id": "c3919642",
   "metadata": {},
   "source": [
    "- Distribución de O₃: ¿Cuál es el rango de concentraciones de O₃ más frecuente? (histograma global y por año).\n",
    "- Mejora: Analizar la variabilidad anual y estacional de O₃."
   ]
  },
  {
   "cell_type": "code",
   "execution_count": null,
   "id": "971fda24",
   "metadata": {},
   "outputs": [],
   "source": []
  },
  {
   "cell_type": "markdown",
   "id": "49b8571d",
   "metadata": {},
   "source": [
    "- Picos diarios: ¿Qué día presentó la concentración más alta de PM10 en cada año?\n",
    "- Mejora: Visualizar los días de picos extremos y analizar si hay patrones estacionales o de eventos puntuales."
   ]
  },
  {
   "cell_type": "code",
   "execution_count": null,
   "id": "3c42bb19",
   "metadata": {},
   "outputs": [],
   "source": []
  },
  {
   "cell_type": "markdown",
   "id": "dd558598",
   "metadata": {},
   "source": [
    "## 🌍 David (comparaciones y correlaciones)\n",
    "\n",
    "- Estacionalidad en un año: ¿Qué contaminante presenta mayores diferencias entre invierno y verano?\n",
    "- Mejora: Analizar la estacionalidad de todos los contaminantes y visualizar la diferencia entre estaciones."
   ]
  },
  {
   "cell_type": "code",
   "execution_count": null,
   "id": "b8a9a39d",
   "metadata": {},
   "outputs": [],
   "source": []
  },
  {
   "cell_type": "markdown",
   "id": "1a678d76",
   "metadata": {},
   "source": [
    "- Correlación: ¿Existe correlación entre los niveles diarios de NO₂ y CO en el periodo analizado?\n",
    "- Mejora: Analizar correlaciones entre más contaminantes y visualizar la matriz de correlación."
   ]
  },
  {
   "cell_type": "code",
   "execution_count": null,
   "id": "d87f4d80",
   "metadata": {},
   "outputs": [],
   "source": []
  },
  {
   "cell_type": "markdown",
   "id": "5aa6067f",
   "metadata": {},
   "source": [
    "- Laborables vs fines de semana: ¿Hay diferencias en los niveles de NO₂ promedio entre días laborables y fines de semana?\n",
    "- Mejora: Analizar diferencias para más contaminantes y visualizar la variación semanal."
   ]
  },
  {
   "cell_type": "code",
   "execution_count": null,
   "id": "37c11843",
   "metadata": {},
   "outputs": [],
   "source": []
  },
  {
   "cell_type": "markdown",
   "id": "433636bc",
   "metadata": {},
   "source": [
    "- Variación horaria: ¿A qué horas del día se concentran los picos de NO₂ en promedio durante el año? (curva horaria).\n",
    "- Mejora: Analizar la variación horaria de más contaminantes y comparar entre años."
   ]
  },
  {
   "cell_type": "code",
   "execution_count": null,
   "id": "788cad92",
   "metadata": {},
   "outputs": [],
   "source": []
  },
  {
   "cell_type": "markdown",
   "id": "2e1d8c16",
   "metadata": {},
   "source": [
    "## 🌱 Alba (limpieza y calidad de datos)\n",
    "\n",
    "- Valores nulos: ¿Qué porcentaje de valores faltan en cada contaminante y cómo tratarlos?\n",
    "- Mejora: Visualizar la evolución de los valores nulos a lo largo del tiempo y proponer estrategias de imputación."
   ]
  },
  {
   "cell_type": "code",
   "execution_count": null,
   "id": "b991178b",
   "metadata": {},
   "outputs": [],
   "source": []
  },
  {
   "cell_type": "markdown",
   "id": "a108ff3c",
   "metadata": {},
   "source": [
    "- Estación de medición: Este dataset solo contiene datos de la estación Escuelas Aguirre, por lo que el análisis se centra en la evolución temporal y no espacial.\n",
    "- Mejora: Proponer la comparación con otros datasets de estaciones si estuvieran disponibles."
   ]
  },
  {
   "cell_type": "code",
   "execution_count": null,
   "id": "1f33fd50",
   "metadata": {},
   "outputs": [],
   "source": []
  },
  {
   "cell_type": "markdown",
   "id": "c58d63e4",
   "metadata": {},
   "source": [
    "- Comparación mensual: ¿Cómo evolucionó la concentración de PM10 a lo largo de los meses? (línea mensual agregada por año).\n",
    "- Mejora: Visualizar la tendencia mensual agregada y comparar entre años."
   ]
  },
  {
   "cell_type": "code",
   "execution_count": null,
   "id": "aeff0790",
   "metadata": {},
   "outputs": [],
   "source": []
  },
  {
   "cell_type": "markdown",
   "id": "3378ad9a",
   "metadata": {},
   "source": [
    "- Contaminante predominante: ¿Cuál fue el contaminante con mayor concentración media anual?\n",
    "- Mejora: Visualizar el contaminante predominante por año y analizar cambios en el tiempo."
   ]
  },
  {
   "cell_type": "code",
   "execution_count": null,
   "id": "f91baaf2",
   "metadata": {},
   "outputs": [],
   "source": []
  }
 ],
 "metadata": {
  "kernelspec": {
   "display_name": "Python 3",
   "language": "python",
   "name": "python3"
  },
  "language_info": {
   "codemirror_mode": {
    "name": "ipython",
    "version": 3
   },
   "file_extension": ".py",
   "mimetype": "text/x-python",
   "name": "python",
   "nbconvert_exporter": "python",
   "pygments_lexer": "ipython3",
   "version": "3.13.7"
  }
 },
 "nbformat": 4,
 "nbformat_minor": 5
}
