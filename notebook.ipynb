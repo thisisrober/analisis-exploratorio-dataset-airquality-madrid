{
 "cells": [
  {
   "cell_type": "markdown",
   "id": "f2b8ae2c",
   "metadata": {},
   "source": [
    "# 🔎 Análisis exploratorio del dataset Air Quality in Madrid (2001-2018)\n",
    "\n",
    "Este proyecto utiliza el dataset “Air Quality in Madrid (2001-2018)” de Kaggle, que contiene registros diarios y horarios de diversos contaminantes recogidos por estaciones de monitoreo en Madrid. El objetivo principal es comparar la calidad del aire entre los años 2001 y 2018, analizando cómo han cambiado los niveles de contaminantes y las tendencias temporales a lo largo de la década.\n",
    "\n",
    "El dataset ofrece suficiente cantidad de registros para realizar consultas significativas, incluyendo análisis por contaminante, estación y período temporal, sin requerir infraestructura de procesamiento especial. Esto permite explorar tendencias históricas, estacionales y anuales, facilitando una evaluación clara de los cambios en la calidad del aire durante una década clave en Madrid."
   ]
  },
  {
   "cell_type": "code",
   "execution_count": null,
   "id": "564b2a80",
   "metadata": {},
   "outputs": [
    {
     "name": "stdout",
     "output_type": "stream",
     "text": [
      "=== Dataset 2001 (columnas comunes con nombre de estación) ===\n"
     ]
    },
    {
     "data": {
      "text/html": [
       "<div>\n",
       "<style scoped>\n",
       "    .dataframe tbody tr th:only-of-type {\n",
       "        vertical-align: middle;\n",
       "    }\n",
       "\n",
       "    .dataframe tbody tr th {\n",
       "        vertical-align: top;\n",
       "    }\n",
       "\n",
       "    .dataframe thead th {\n",
       "        text-align: right;\n",
       "    }\n",
       "</style>\n",
       "<table border=\"1\" class=\"dataframe\">\n",
       "  <thead>\n",
       "    <tr style=\"text-align: right;\">\n",
       "      <th></th>\n",
       "      <th>TCH</th>\n",
       "      <th>BEN</th>\n",
       "      <th>NMHC</th>\n",
       "      <th>PM10</th>\n",
       "      <th>O_3</th>\n",
       "      <th>EBE</th>\n",
       "      <th>SO_2</th>\n",
       "      <th>TOL</th>\n",
       "      <th>id</th>\n",
       "      <th>CO</th>\n",
       "      <th>NO_2</th>\n",
       "      <th>date</th>\n",
       "      <th>name</th>\n",
       "    </tr>\n",
       "  </thead>\n",
       "  <tbody>\n",
       "    <tr>\n",
       "      <th>0</th>\n",
       "      <td>NaN</td>\n",
       "      <td>NaN</td>\n",
       "      <td>NaN</td>\n",
       "      <td>105.000000</td>\n",
       "      <td>34.529999</td>\n",
       "      <td>NaN</td>\n",
       "      <td>6.34</td>\n",
       "      <td>NaN</td>\n",
       "      <td>28079001</td>\n",
       "      <td>0.37</td>\n",
       "      <td>58.400002</td>\n",
       "      <td>2001-08-01 01:00:00</td>\n",
       "      <td>NaN</td>\n",
       "    </tr>\n",
       "    <tr>\n",
       "      <th>1</th>\n",
       "      <td>1.24</td>\n",
       "      <td>1.5</td>\n",
       "      <td>0.07</td>\n",
       "      <td>100.599998</td>\n",
       "      <td>42.160000</td>\n",
       "      <td>1.49</td>\n",
       "      <td>8.11</td>\n",
       "      <td>10.82</td>\n",
       "      <td>28079035</td>\n",
       "      <td>0.34</td>\n",
       "      <td>56.250000</td>\n",
       "      <td>2001-08-01 01:00:00</td>\n",
       "      <td>Pza. del Carmen</td>\n",
       "    </tr>\n",
       "    <tr>\n",
       "      <th>2</th>\n",
       "      <td>NaN</td>\n",
       "      <td>NaN</td>\n",
       "      <td>NaN</td>\n",
       "      <td>100.099998</td>\n",
       "      <td>46.310001</td>\n",
       "      <td>NaN</td>\n",
       "      <td>7.85</td>\n",
       "      <td>NaN</td>\n",
       "      <td>28079003</td>\n",
       "      <td>0.28</td>\n",
       "      <td>50.660000</td>\n",
       "      <td>2001-08-01 01:00:00</td>\n",
       "      <td>NaN</td>\n",
       "    </tr>\n",
       "    <tr>\n",
       "      <th>3</th>\n",
       "      <td>NaN</td>\n",
       "      <td>NaN</td>\n",
       "      <td>NaN</td>\n",
       "      <td>69.779999</td>\n",
       "      <td>40.650002</td>\n",
       "      <td>NaN</td>\n",
       "      <td>6.46</td>\n",
       "      <td>NaN</td>\n",
       "      <td>28079004</td>\n",
       "      <td>0.47</td>\n",
       "      <td>69.790001</td>\n",
       "      <td>2001-08-01 01:00:00</td>\n",
       "      <td>Pza. de España</td>\n",
       "    </tr>\n",
       "    <tr>\n",
       "      <th>4</th>\n",
       "      <td>NaN</td>\n",
       "      <td>NaN</td>\n",
       "      <td>NaN</td>\n",
       "      <td>75.180000</td>\n",
       "      <td>66.309998</td>\n",
       "      <td>NaN</td>\n",
       "      <td>8.80</td>\n",
       "      <td>NaN</td>\n",
       "      <td>28079039</td>\n",
       "      <td>0.39</td>\n",
       "      <td>22.830000</td>\n",
       "      <td>2001-08-01 01:00:00</td>\n",
       "      <td>Barrio del Pilar</td>\n",
       "    </tr>\n",
       "  </tbody>\n",
       "</table>\n",
       "</div>"
      ],
      "text/plain": [
       "    TCH  BEN  NMHC        PM10        O_3   EBE  SO_2    TOL        id    CO  \\\n",
       "0   NaN  NaN   NaN  105.000000  34.529999   NaN  6.34    NaN  28079001  0.37   \n",
       "1  1.24  1.5  0.07  100.599998  42.160000  1.49  8.11  10.82  28079035  0.34   \n",
       "2   NaN  NaN   NaN  100.099998  46.310001   NaN  7.85    NaN  28079003  0.28   \n",
       "3   NaN  NaN   NaN   69.779999  40.650002   NaN  6.46    NaN  28079004  0.47   \n",
       "4   NaN  NaN   NaN   75.180000  66.309998   NaN  8.80    NaN  28079039  0.39   \n",
       "\n",
       "        NO_2                 date              name  \n",
       "0  58.400002  2001-08-01 01:00:00               NaN  \n",
       "1  56.250000  2001-08-01 01:00:00   Pza. del Carmen  \n",
       "2  50.660000  2001-08-01 01:00:00               NaN  \n",
       "3  69.790001  2001-08-01 01:00:00    Pza. de España  \n",
       "4  22.830000  2001-08-01 01:00:00  Barrio del Pilar  "
      ]
     },
     "metadata": {},
     "output_type": "display_data"
    },
    {
     "name": "stdout",
     "output_type": "stream",
     "text": [
      "=== Dataset 2018 (columnas comunes con nombre de estación) ===\n"
     ]
    },
    {
     "data": {
      "text/html": [
       "<div>\n",
       "<style scoped>\n",
       "    .dataframe tbody tr th:only-of-type {\n",
       "        vertical-align: middle;\n",
       "    }\n",
       "\n",
       "    .dataframe tbody tr th {\n",
       "        vertical-align: top;\n",
       "    }\n",
       "\n",
       "    .dataframe thead th {\n",
       "        text-align: right;\n",
       "    }\n",
       "</style>\n",
       "<table border=\"1\" class=\"dataframe\">\n",
       "  <thead>\n",
       "    <tr style=\"text-align: right;\">\n",
       "      <th></th>\n",
       "      <th>TCH</th>\n",
       "      <th>BEN</th>\n",
       "      <th>NMHC</th>\n",
       "      <th>PM10</th>\n",
       "      <th>O_3</th>\n",
       "      <th>EBE</th>\n",
       "      <th>SO_2</th>\n",
       "      <th>TOL</th>\n",
       "      <th>id</th>\n",
       "      <th>CO</th>\n",
       "      <th>NO_2</th>\n",
       "      <th>date</th>\n",
       "      <th>name</th>\n",
       "    </tr>\n",
       "  </thead>\n",
       "  <tbody>\n",
       "    <tr>\n",
       "      <th>0</th>\n",
       "      <td>NaN</td>\n",
       "      <td>NaN</td>\n",
       "      <td>NaN</td>\n",
       "      <td>NaN</td>\n",
       "      <td>NaN</td>\n",
       "      <td>NaN</td>\n",
       "      <td>2.0</td>\n",
       "      <td>NaN</td>\n",
       "      <td>28079004</td>\n",
       "      <td>0.3</td>\n",
       "      <td>29.0</td>\n",
       "      <td>2018-03-01 01:00:00</td>\n",
       "      <td>Pza. de España</td>\n",
       "    </tr>\n",
       "    <tr>\n",
       "      <th>1</th>\n",
       "      <td>1.41</td>\n",
       "      <td>0.5</td>\n",
       "      <td>0.02</td>\n",
       "      <td>5.0</td>\n",
       "      <td>52.0</td>\n",
       "      <td>0.2</td>\n",
       "      <td>3.0</td>\n",
       "      <td>0.8</td>\n",
       "      <td>28079008</td>\n",
       "      <td>0.3</td>\n",
       "      <td>40.0</td>\n",
       "      <td>2018-03-01 01:00:00</td>\n",
       "      <td>Escuelas Aguirre</td>\n",
       "    </tr>\n",
       "    <tr>\n",
       "      <th>2</th>\n",
       "      <td>NaN</td>\n",
       "      <td>0.4</td>\n",
       "      <td>NaN</td>\n",
       "      <td>NaN</td>\n",
       "      <td>NaN</td>\n",
       "      <td>0.2</td>\n",
       "      <td>NaN</td>\n",
       "      <td>1.1</td>\n",
       "      <td>28079011</td>\n",
       "      <td>NaN</td>\n",
       "      <td>41.0</td>\n",
       "      <td>2018-03-01 01:00:00</td>\n",
       "      <td>Avda. Ramón y Cajal</td>\n",
       "    </tr>\n",
       "    <tr>\n",
       "      <th>3</th>\n",
       "      <td>NaN</td>\n",
       "      <td>NaN</td>\n",
       "      <td>NaN</td>\n",
       "      <td>NaN</td>\n",
       "      <td>54.0</td>\n",
       "      <td>NaN</td>\n",
       "      <td>NaN</td>\n",
       "      <td>NaN</td>\n",
       "      <td>28079016</td>\n",
       "      <td>0.3</td>\n",
       "      <td>35.0</td>\n",
       "      <td>2018-03-01 01:00:00</td>\n",
       "      <td>Arturo Soria</td>\n",
       "    </tr>\n",
       "    <tr>\n",
       "      <th>4</th>\n",
       "      <td>NaN</td>\n",
       "      <td>NaN</td>\n",
       "      <td>NaN</td>\n",
       "      <td>NaN</td>\n",
       "      <td>49.0</td>\n",
       "      <td>NaN</td>\n",
       "      <td>3.0</td>\n",
       "      <td>NaN</td>\n",
       "      <td>28079017</td>\n",
       "      <td>NaN</td>\n",
       "      <td>27.0</td>\n",
       "      <td>2018-03-01 01:00:00</td>\n",
       "      <td>Villaverde</td>\n",
       "    </tr>\n",
       "  </tbody>\n",
       "</table>\n",
       "</div>"
      ],
      "text/plain": [
       "    TCH  BEN  NMHC  PM10   O_3  EBE  SO_2  TOL        id   CO  NO_2  \\\n",
       "0   NaN  NaN   NaN   NaN   NaN  NaN   2.0  NaN  28079004  0.3  29.0   \n",
       "1  1.41  0.5  0.02   5.0  52.0  0.2   3.0  0.8  28079008  0.3  40.0   \n",
       "2   NaN  0.4   NaN   NaN   NaN  0.2   NaN  1.1  28079011  NaN  41.0   \n",
       "3   NaN  NaN   NaN   NaN  54.0  NaN   NaN  NaN  28079016  0.3  35.0   \n",
       "4   NaN  NaN   NaN   NaN  49.0  NaN   3.0  NaN  28079017  NaN  27.0   \n",
       "\n",
       "                  date                 name  \n",
       "0  2018-03-01 01:00:00       Pza. de España  \n",
       "1  2018-03-01 01:00:00     Escuelas Aguirre  \n",
       "2  2018-03-01 01:00:00  Avda. Ramón y Cajal  \n",
       "3  2018-03-01 01:00:00         Arturo Soria  \n",
       "4  2018-03-01 01:00:00           Villaverde  "
      ]
     },
     "metadata": {},
     "output_type": "display_data"
    }
   ],
   "source": [
    "import pandas as pd\n",
    "import matplotlib.pyplot as plt\n",
    "import glob\n",
    "import os\n",
    "\n",
    "# Ruta de los archivos CSV por año\n",
    "csvs_folder = r\"data\\csvs_per_year\\csvs_per_year\"\n",
    "csv_files = sorted(glob.glob(os.path.join(csvs_folder, \"madrid_*.csv\")))\n",
    "\n",
    "# Cargar todos los datasets en un diccionario por año\n",
    "dfs = {}\n",
    "for csv_path in csv_files:\n",
    "    # Extraer el año del nombre del archivo\n",
    "    year = int(os.path.basename(csv_path).split('_')[1].split('.')[0])\n",
    "    df = pd.read_csv(csv_path)\n",
    "    # Renombrar columna 'station' a 'id' si existe\n",
    "    if 'station' in df.columns:\n",
    "        df = df.rename(columns={'station': 'id'})\n",
    "    # Renombrar 'NO' a 'NOx' solo si existe y es 2015 o posterior\n",
    "    if 'NO' in df.columns and year >= 2015:\n",
    "        df = df.rename(columns={'NO': 'NOx'})\n",
    "    dfs[year] = df\n",
    "\n",
    "# Cargar el archivo de estaciones\n",
    "stations_csv = r\"data\\stations.csv\"\n",
    "stations = pd.read_csv(stations_csv)\n",
    "\n",
    "# Unificar columnas comunes entre todos los años\n",
    "common_cols = set(dfs[min(dfs.keys())].columns)\n",
    "for df in dfs.values():\n",
    "    common_cols = common_cols.intersection(set(df.columns))\n",
    "common_cols = list(common_cols)\n",
    "\n",
    "# Crear un DataFrame por año con columnas comunes y nombre de estación\n",
    "dfs_common = {}\n",
    "for year, df in dfs.items():\n",
    "    df_common = df[common_cols].merge(stations[['id','name']], on='id', how='left')\n",
    "    dfs_common[year] = df_common\n",
    "\n",
    "# Mostrar ejemplo de todos los años\n",
    "for year in sorted(dfs_common.keys()):\n",
    "    print(f\"=== Dataset {year} (columnas comunes con nombre de estación) ===\")\n",
    "    display(dfs_common[year].head())"
   ]
  },
  {
   "cell_type": "markdown",
   "id": "f14aa2bd",
   "metadata": {},
   "source": [
    "## 📊 Robert (análisis general y descriptivo)\n",
    "\n",
    "- Promedio anual: ¿Cuál es la concentración media de cada contaminante? (tabla resumen).\n"
   ]
  },
  {
   "cell_type": "code",
   "execution_count": null,
   "id": "20769903",
   "metadata": {},
   "outputs": [],
   "source": []
  },
  {
   "cell_type": "markdown",
   "id": "c0dc3f53",
   "metadata": {},
   "source": [
    "- Mes con peor calidad del aire: ¿Qué mes tuvo la media más alta de NO₂? (gráfico de barras mensual)."
   ]
  },
  {
   "cell_type": "code",
   "execution_count": null,
   "id": "08f1407b",
   "metadata": {},
   "outputs": [],
   "source": []
  },
  {
   "cell_type": "markdown",
   "id": "c3919642",
   "metadata": {},
   "source": [
    "- Distribución de O₃: ¿Cuál es el rango de concentraciones de O₃ más frecuente? (histograma)."
   ]
  },
  {
   "cell_type": "code",
   "execution_count": null,
   "id": "971fda24",
   "metadata": {},
   "outputs": [],
   "source": []
  },
  {
   "cell_type": "markdown",
   "id": "49b8571d",
   "metadata": {},
   "source": [
    "- Picos diarios: ¿Qué día presentó la concentración más alta de PM10 en ese año?"
   ]
  },
  {
   "cell_type": "code",
   "execution_count": null,
   "id": "3c42bb19",
   "metadata": {},
   "outputs": [],
   "source": []
  },
  {
   "cell_type": "markdown",
   "id": "dd558598",
   "metadata": {},
   "source": [
    "## 🌍 David (comparaciones y correlaciones)\n",
    "\n",
    "- Estacionalidad en un año: ¿Qué contaminante presenta mayores diferencias entre invierno y verano?"
   ]
  },
  {
   "cell_type": "code",
   "execution_count": null,
   "id": "b8a9a39d",
   "metadata": {},
   "outputs": [],
   "source": []
  },
  {
   "cell_type": "markdown",
   "id": "1a678d76",
   "metadata": {},
   "source": [
    "- Correlación: ¿Existe correlación entre los niveles diarios de NO₂ y CO en ese año?"
   ]
  },
  {
   "cell_type": "code",
   "execution_count": null,
   "id": "d87f4d80",
   "metadata": {},
   "outputs": [],
   "source": []
  },
  {
   "cell_type": "markdown",
   "id": "5aa6067f",
   "metadata": {},
   "source": [
    "- Laborables vs fines de semana: ¿Hay diferencias en los niveles de NO₂ promedio entre días laborables y fines de semana?"
   ]
  },
  {
   "cell_type": "code",
   "execution_count": null,
   "id": "37c11843",
   "metadata": {},
   "outputs": [],
   "source": []
  },
  {
   "cell_type": "markdown",
   "id": "433636bc",
   "metadata": {},
   "source": [
    "- Variación horaria: ¿A qué horas del día se concentran los picos de NO₂ en promedio durante el año? (curva horaria)."
   ]
  },
  {
   "cell_type": "code",
   "execution_count": null,
   "id": "788cad92",
   "metadata": {},
   "outputs": [],
   "source": []
  },
  {
   "cell_type": "markdown",
   "id": "2e1d8c16",
   "metadata": {},
   "source": [
    "## 🌱 Alba (limpieza, estaciones y comparación)\n",
    "\n",
    "- Valores nulos: ¿Qué porcentaje de valores faltan en cada contaminante y cómo tratarlos?"
   ]
  },
  {
   "cell_type": "code",
   "execution_count": null,
   "id": "b991178b",
   "metadata": {},
   "outputs": [],
   "source": []
  },
  {
   "cell_type": "markdown",
   "id": "a108ff3c",
   "metadata": {},
   "source": [
    "- Estaciones de medición: ¿Qué estación registró la mayor concentración media de NO₂? (gráfico de barras por estación)."
   ]
  },
  {
   "cell_type": "code",
   "execution_count": null,
   "id": "1f33fd50",
   "metadata": {},
   "outputs": [],
   "source": []
  },
  {
   "cell_type": "markdown",
   "id": "c58d63e4",
   "metadata": {},
   "source": [
    "- Comparación mensual: ¿Cómo evolucionó la concentración de PM10 a lo largo de los meses? (línea mensual)."
   ]
  },
  {
   "cell_type": "code",
   "execution_count": null,
   "id": "aeff0790",
   "metadata": {},
   "outputs": [],
   "source": []
  },
  {
   "cell_type": "markdown",
   "id": "3378ad9a",
   "metadata": {},
   "source": [
    "- Contaminante predominante: ¿Cuál fue el contaminante con mayor concentración media?"
   ]
  },
  {
   "cell_type": "code",
   "execution_count": null,
   "id": "f91baaf2",
   "metadata": {},
   "outputs": [],
   "source": []
  }
 ],
 "metadata": {
  "kernelspec": {
   "display_name": "Python 3",
   "language": "python",
   "name": "python3"
  },
  "language_info": {
   "codemirror_mode": {
    "name": "ipython",
    "version": 3
   },
   "file_extension": ".py",
   "mimetype": "text/x-python",
   "name": "python",
   "nbconvert_exporter": "python",
   "pygments_lexer": "ipython3",
   "version": "3.13.7"
  }
 },
 "nbformat": 4,
 "nbformat_minor": 5
}
