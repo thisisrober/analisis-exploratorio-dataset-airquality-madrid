{
 "cells": [
  {
   "cell_type": "markdown",
   "id": "f2b8ae2c",
   "metadata": {},
   "source": [
    "# 🔎 Análisis exploratorio del dataset Air Quality in Madrid (2005-2015)\n",
    "\n",
    "Este proyecto utiliza el dataset “Air Quality in Madrid (2001-2018)” de Kaggle, que contiene registros diarios y horarios de diversos contaminantes recogidos por estaciones de monitoreo en Madrid. El objetivo principal es comparar la calidad del aire entre los años 2005 y 2015, analizando cómo han cambiado los niveles de contaminantes y las tendencias temporales a lo largo de la década.\n",
    "\n",
    "El dataset ofrece suficiente cantidad de registros para realizar consultas significativas, incluyendo análisis por contaminante, estación y período temporal, sin requerir infraestructura de procesamiento especial. Esto permite explorar tendencias históricas, estacionales y anuales, facilitando una evaluación clara de los cambios en la calidad del aire durante una década clave en Madrid."
   ]
  },
  {
   "cell_type": "code",
   "execution_count": null,
   "id": "564b2a80",
   "metadata": {},
   "outputs": [
    {
     "name": "stdout",
     "output_type": "stream",
     "text": [
      "=== Dataset 2005 (columnas comunes) ===\n"
     ]
    },
    {
     "data": {
      "text/html": [
       "<div>\n",
       "<style scoped>\n",
       "    .dataframe tbody tr th:only-of-type {\n",
       "        vertical-align: middle;\n",
       "    }\n",
       "\n",
       "    .dataframe tbody tr th {\n",
       "        vertical-align: top;\n",
       "    }\n",
       "\n",
       "    .dataframe thead th {\n",
       "        text-align: right;\n",
       "    }\n",
       "</style>\n",
       "<table border=\"1\" class=\"dataframe\">\n",
       "  <thead>\n",
       "    <tr style=\"text-align: right;\">\n",
       "      <th></th>\n",
       "      <th>TCH</th>\n",
       "      <th>BEN</th>\n",
       "      <th>NMHC</th>\n",
       "      <th>PM10</th>\n",
       "      <th>O_3</th>\n",
       "      <th>EBE</th>\n",
       "      <th>PM25</th>\n",
       "      <th>station</th>\n",
       "      <th>NOx</th>\n",
       "      <th>SO_2</th>\n",
       "      <th>TOL</th>\n",
       "      <th>CO</th>\n",
       "      <th>NO_2</th>\n",
       "      <th>date</th>\n",
       "    </tr>\n",
       "  </thead>\n",
       "  <tbody>\n",
       "    <tr>\n",
       "      <th>0</th>\n",
       "      <td>NaN</td>\n",
       "      <td>NaN</td>\n",
       "      <td>NaN</td>\n",
       "      <td>14.91</td>\n",
       "      <td>14.720000</td>\n",
       "      <td>NaN</td>\n",
       "      <td>10.65</td>\n",
       "      <td>28079001</td>\n",
       "      <td>128.699997</td>\n",
       "      <td>4.62</td>\n",
       "      <td>NaN</td>\n",
       "      <td>0.77</td>\n",
       "      <td>57.130001</td>\n",
       "      <td>2005-11-01 01:00:00</td>\n",
       "    </tr>\n",
       "    <tr>\n",
       "      <th>1</th>\n",
       "      <td>1.35</td>\n",
       "      <td>1.52</td>\n",
       "      <td>0.25</td>\n",
       "      <td>30.93</td>\n",
       "      <td>11.680000</td>\n",
       "      <td>1.49</td>\n",
       "      <td>NaN</td>\n",
       "      <td>28079035</td>\n",
       "      <td>181.699997</td>\n",
       "      <td>7.80</td>\n",
       "      <td>7.98</td>\n",
       "      <td>0.65</td>\n",
       "      <td>86.559998</td>\n",
       "      <td>2005-11-01 01:00:00</td>\n",
       "    </tr>\n",
       "    <tr>\n",
       "      <th>2</th>\n",
       "      <td>NaN</td>\n",
       "      <td>NaN</td>\n",
       "      <td>NaN</td>\n",
       "      <td>14.60</td>\n",
       "      <td>30.469999</td>\n",
       "      <td>NaN</td>\n",
       "      <td>NaN</td>\n",
       "      <td>28079003</td>\n",
       "      <td>53.000000</td>\n",
       "      <td>5.76</td>\n",
       "      <td>NaN</td>\n",
       "      <td>0.40</td>\n",
       "      <td>46.119999</td>\n",
       "      <td>2005-11-01 01:00:00</td>\n",
       "    </tr>\n",
       "    <tr>\n",
       "      <th>3</th>\n",
       "      <td>NaN</td>\n",
       "      <td>NaN</td>\n",
       "      <td>NaN</td>\n",
       "      <td>15.16</td>\n",
       "      <td>21.379999</td>\n",
       "      <td>NaN</td>\n",
       "      <td>NaN</td>\n",
       "      <td>28079004</td>\n",
       "      <td>52.009998</td>\n",
       "      <td>6.60</td>\n",
       "      <td>NaN</td>\n",
       "      <td>0.42</td>\n",
       "      <td>37.220001</td>\n",
       "      <td>2005-11-01 01:00:00</td>\n",
       "    </tr>\n",
       "    <tr>\n",
       "      <th>4</th>\n",
       "      <td>NaN</td>\n",
       "      <td>NaN</td>\n",
       "      <td>NaN</td>\n",
       "      <td>5.00</td>\n",
       "      <td>33.410000</td>\n",
       "      <td>NaN</td>\n",
       "      <td>NaN</td>\n",
       "      <td>28079039</td>\n",
       "      <td>36.680000</td>\n",
       "      <td>3.00</td>\n",
       "      <td>NaN</td>\n",
       "      <td>0.57</td>\n",
       "      <td>32.160000</td>\n",
       "      <td>2005-11-01 01:00:00</td>\n",
       "    </tr>\n",
       "  </tbody>\n",
       "</table>\n",
       "</div>"
      ],
      "text/plain": [
       "    TCH   BEN  NMHC   PM10        O_3   EBE   PM25   station         NOx  \\\n",
       "0   NaN   NaN   NaN  14.91  14.720000   NaN  10.65  28079001  128.699997   \n",
       "1  1.35  1.52  0.25  30.93  11.680000  1.49    NaN  28079035  181.699997   \n",
       "2   NaN   NaN   NaN  14.60  30.469999   NaN    NaN  28079003   53.000000   \n",
       "3   NaN   NaN   NaN  15.16  21.379999   NaN    NaN  28079004   52.009998   \n",
       "4   NaN   NaN   NaN   5.00  33.410000   NaN    NaN  28079039   36.680000   \n",
       "\n",
       "   SO_2   TOL    CO       NO_2                 date  \n",
       "0  4.62   NaN  0.77  57.130001  2005-11-01 01:00:00  \n",
       "1  7.80  7.98  0.65  86.559998  2005-11-01 01:00:00  \n",
       "2  5.76   NaN  0.40  46.119999  2005-11-01 01:00:00  \n",
       "3  6.60   NaN  0.42  37.220001  2005-11-01 01:00:00  \n",
       "4  3.00   NaN  0.57  32.160000  2005-11-01 01:00:00  "
      ]
     },
     "metadata": {},
     "output_type": "display_data"
    },
    {
     "name": "stdout",
     "output_type": "stream",
     "text": [
      "=== Dataset 2015 (columnas comunes) ===\n"
     ]
    },
    {
     "data": {
      "text/html": [
       "<div>\n",
       "<style scoped>\n",
       "    .dataframe tbody tr th:only-of-type {\n",
       "        vertical-align: middle;\n",
       "    }\n",
       "\n",
       "    .dataframe tbody tr th {\n",
       "        vertical-align: top;\n",
       "    }\n",
       "\n",
       "    .dataframe thead th {\n",
       "        text-align: right;\n",
       "    }\n",
       "</style>\n",
       "<table border=\"1\" class=\"dataframe\">\n",
       "  <thead>\n",
       "    <tr style=\"text-align: right;\">\n",
       "      <th></th>\n",
       "      <th>TCH</th>\n",
       "      <th>BEN</th>\n",
       "      <th>NMHC</th>\n",
       "      <th>PM10</th>\n",
       "      <th>O_3</th>\n",
       "      <th>EBE</th>\n",
       "      <th>PM25</th>\n",
       "      <th>station</th>\n",
       "      <th>NOx</th>\n",
       "      <th>SO_2</th>\n",
       "      <th>TOL</th>\n",
       "      <th>CO</th>\n",
       "      <th>NO_2</th>\n",
       "      <th>date</th>\n",
       "    </tr>\n",
       "  </thead>\n",
       "  <tbody>\n",
       "    <tr>\n",
       "      <th>0</th>\n",
       "      <td>NaN</td>\n",
       "      <td>NaN</td>\n",
       "      <td>NaN</td>\n",
       "      <td>NaN</td>\n",
       "      <td>NaN</td>\n",
       "      <td>NaN</td>\n",
       "      <td>NaN</td>\n",
       "      <td>28079004</td>\n",
       "      <td>90.0</td>\n",
       "      <td>10.0</td>\n",
       "      <td>NaN</td>\n",
       "      <td>0.8</td>\n",
       "      <td>82.0</td>\n",
       "      <td>2015-10-01 01:00:00</td>\n",
       "    </tr>\n",
       "    <tr>\n",
       "      <th>1</th>\n",
       "      <td>1.83</td>\n",
       "      <td>2.0</td>\n",
       "      <td>0.33</td>\n",
       "      <td>37.0</td>\n",
       "      <td>4.0</td>\n",
       "      <td>1.6</td>\n",
       "      <td>24.0</td>\n",
       "      <td>28079008</td>\n",
       "      <td>40.0</td>\n",
       "      <td>12.0</td>\n",
       "      <td>8.3</td>\n",
       "      <td>0.8</td>\n",
       "      <td>95.0</td>\n",
       "      <td>2015-10-01 01:00:00</td>\n",
       "    </tr>\n",
       "    <tr>\n",
       "      <th>2</th>\n",
       "      <td>NaN</td>\n",
       "      <td>3.1</td>\n",
       "      <td>NaN</td>\n",
       "      <td>NaN</td>\n",
       "      <td>NaN</td>\n",
       "      <td>1.8</td>\n",
       "      <td>NaN</td>\n",
       "      <td>28079011</td>\n",
       "      <td>29.0</td>\n",
       "      <td>NaN</td>\n",
       "      <td>7.1</td>\n",
       "      <td>NaN</td>\n",
       "      <td>97.0</td>\n",
       "      <td>2015-10-01 01:00:00</td>\n",
       "    </tr>\n",
       "    <tr>\n",
       "      <th>3</th>\n",
       "      <td>NaN</td>\n",
       "      <td>NaN</td>\n",
       "      <td>NaN</td>\n",
       "      <td>NaN</td>\n",
       "      <td>2.0</td>\n",
       "      <td>NaN</td>\n",
       "      <td>NaN</td>\n",
       "      <td>28079016</td>\n",
       "      <td>30.0</td>\n",
       "      <td>NaN</td>\n",
       "      <td>NaN</td>\n",
       "      <td>0.6</td>\n",
       "      <td>103.0</td>\n",
       "      <td>2015-10-01 01:00:00</td>\n",
       "    </tr>\n",
       "    <tr>\n",
       "      <th>4</th>\n",
       "      <td>NaN</td>\n",
       "      <td>NaN</td>\n",
       "      <td>NaN</td>\n",
       "      <td>NaN</td>\n",
       "      <td>2.0</td>\n",
       "      <td>NaN</td>\n",
       "      <td>NaN</td>\n",
       "      <td>28079017</td>\n",
       "      <td>95.0</td>\n",
       "      <td>9.0</td>\n",
       "      <td>NaN</td>\n",
       "      <td>NaN</td>\n",
       "      <td>96.0</td>\n",
       "      <td>2015-10-01 01:00:00</td>\n",
       "    </tr>\n",
       "  </tbody>\n",
       "</table>\n",
       "</div>"
      ],
      "text/plain": [
       "    TCH  BEN  NMHC  PM10  O_3  EBE  PM25   station   NOx  SO_2  TOL   CO  \\\n",
       "0   NaN  NaN   NaN   NaN  NaN  NaN   NaN  28079004  90.0  10.0  NaN  0.8   \n",
       "1  1.83  2.0  0.33  37.0  4.0  1.6  24.0  28079008  40.0  12.0  8.3  0.8   \n",
       "2   NaN  3.1   NaN   NaN  NaN  1.8   NaN  28079011  29.0   NaN  7.1  NaN   \n",
       "3   NaN  NaN   NaN   NaN  2.0  NaN   NaN  28079016  30.0   NaN  NaN  0.6   \n",
       "4   NaN  NaN   NaN   NaN  2.0  NaN   NaN  28079017  95.0   9.0  NaN  NaN   \n",
       "\n",
       "    NO_2                 date  \n",
       "0   82.0  2015-10-01 01:00:00  \n",
       "1   95.0  2015-10-01 01:00:00  \n",
       "2   97.0  2015-10-01 01:00:00  \n",
       "3  103.0  2015-10-01 01:00:00  \n",
       "4   96.0  2015-10-01 01:00:00  "
      ]
     },
     "metadata": {},
     "output_type": "display_data"
    }
   ],
   "source": [
    "import pandas as pd\n",
    "import matplotlib.pyplot as plt\n",
    "\n",
    "# Rutas de los archivos CSV\n",
    "csv_2005 = r\"data\\csvs_per_year\\csvs_per_year\\madrid_2005.csv\"\n",
    "csv_2015 = r\"data\\csvs_per_year\\csvs_per_year\\madrid_2015.csv\"\n",
    "stations_csv = r\"data\\stations.csv\"\n",
    "\n",
    "# Cargar los datasets\n",
    "df_2005 = pd.read_csv(csv_2005)\n",
    "df_2015 = pd.read_csv(csv_2015)\n",
    "stations = pd.read_csv(stations_csv)\n",
    "\n",
    "# Renombrar columnas para alinear datasets si es necesario\n",
    "df_2015 = df_2015.rename(columns={'NO': 'NOx', 'station': 'id'})\n",
    "df_2005 = df_2005.rename(columns={'station': 'id'})\n",
    "\n",
    "# Unificar columnas comunes\n",
    "common_cols = list(set(df_2005.columns).intersection(set(df_2015.columns)))\n",
    "df_2005_common = df_2005[common_cols]\n",
    "df_2015_common = df_2015[common_cols]\n",
    "\n",
    "# Hacer merge con las estaciones para mostrar el nombre\n",
    "df_2005_common = df_2005_common.merge(stations[['id','name']], on='id', how='left')\n",
    "df_2015_common = df_2015_common.merge(stations[['id','name']], on='id', how='left')\n",
    "\n",
    "# Mostrar tablas con pandas\n",
    "print(\"=== Dataset 2005 (columnas comunes con nombre de estación) ===\")\n",
    "display(df_2005_common.head())\n",
    "\n",
    "print(\"=== Dataset 2015 (columnas comunes con nombre de estación) ===\")\n",
    "display(df_2015_common.head())"
   ]
  },
  {
   "cell_type": "markdown",
   "id": "f14aa2bd",
   "metadata": {},
   "source": [
    "## 📊 Robert (análisis general y descriptivo)\n",
    "\n",
    "- Promedio anual: ¿Cuál es la concentración media de cada contaminante en el año elegido? (tabla resumen).\n"
   ]
  },
  {
   "cell_type": "code",
   "execution_count": null,
   "id": "20769903",
   "metadata": {},
   "outputs": [],
   "source": []
  },
  {
   "cell_type": "markdown",
   "id": "c0dc3f53",
   "metadata": {},
   "source": [
    "- Mes con peor calidad del aire: ¿Qué mes tuvo la media más alta de NO₂? (gráfico de barras mensual)."
   ]
  },
  {
   "cell_type": "code",
   "execution_count": null,
   "id": "08f1407b",
   "metadata": {},
   "outputs": [],
   "source": []
  },
  {
   "cell_type": "markdown",
   "id": "c3919642",
   "metadata": {},
   "source": [
    "- Distribución de O₃: ¿Cuál es el rango de concentraciones de O₃ más frecuente? (histograma)."
   ]
  },
  {
   "cell_type": "code",
   "execution_count": null,
   "id": "971fda24",
   "metadata": {},
   "outputs": [],
   "source": []
  },
  {
   "cell_type": "markdown",
   "id": "49b8571d",
   "metadata": {},
   "source": [
    "- Picos diarios: ¿Qué día presentó la concentración más alta de PM10 en ese año?"
   ]
  },
  {
   "cell_type": "code",
   "execution_count": null,
   "id": "3c42bb19",
   "metadata": {},
   "outputs": [],
   "source": []
  },
  {
   "cell_type": "markdown",
   "id": "dd558598",
   "metadata": {},
   "source": [
    "## 🌍 David (comparaciones y correlaciones)\n",
    "\n",
    "- Estacionalidad en un año: ¿Qué contaminante presenta mayores diferencias entre invierno y verano en el año seleccionado?"
   ]
  },
  {
   "cell_type": "code",
   "execution_count": null,
   "id": "b8a9a39d",
   "metadata": {},
   "outputs": [],
   "source": []
  },
  {
   "cell_type": "markdown",
   "id": "1a678d76",
   "metadata": {},
   "source": [
    "- Correlación: ¿Existe correlación entre los niveles diarios de NO₂ y CO en ese año?"
   ]
  },
  {
   "cell_type": "code",
   "execution_count": null,
   "id": "d87f4d80",
   "metadata": {},
   "outputs": [],
   "source": []
  },
  {
   "cell_type": "markdown",
   "id": "5aa6067f",
   "metadata": {},
   "source": [
    "- Laborables vs fines de semana: ¿Hay diferencias en los niveles de NO₂ promedio entre días laborables y fines de semana?"
   ]
  },
  {
   "cell_type": "code",
   "execution_count": null,
   "id": "37c11843",
   "metadata": {},
   "outputs": [],
   "source": []
  },
  {
   "cell_type": "markdown",
   "id": "433636bc",
   "metadata": {},
   "source": [
    "- Variación horaria: ¿A qué horas del día se concentran los picos de NO₂ en promedio durante el año? (curva horaria)."
   ]
  },
  {
   "cell_type": "code",
   "execution_count": null,
   "id": "788cad92",
   "metadata": {},
   "outputs": [],
   "source": []
  },
  {
   "cell_type": "markdown",
   "id": "2e1d8c16",
   "metadata": {},
   "source": [
    "## 🌱 Alba (limpieza, estaciones y comparación)\n",
    "\n",
    "- Valores nulos: ¿Qué porcentaje de valores faltan en cada contaminante ese año y cómo tratarlos?"
   ]
  },
  {
   "cell_type": "code",
   "execution_count": null,
   "id": "b991178b",
   "metadata": {},
   "outputs": [],
   "source": []
  },
  {
   "cell_type": "markdown",
   "id": "a108ff3c",
   "metadata": {},
   "source": [
    "- Estaciones de medición: ¿Qué estación registró la mayor concentración media de NO₂? (gráfico de barras por estación)."
   ]
  },
  {
   "cell_type": "code",
   "execution_count": null,
   "id": "1f33fd50",
   "metadata": {},
   "outputs": [],
   "source": []
  },
  {
   "cell_type": "markdown",
   "id": "c58d63e4",
   "metadata": {},
   "source": [
    "- Comparación mensual: ¿Cómo evolucionó la concentración de PM10 a lo largo de los meses? (línea mensual)."
   ]
  },
  {
   "cell_type": "code",
   "execution_count": null,
   "id": "aeff0790",
   "metadata": {},
   "outputs": [],
   "source": []
  },
  {
   "cell_type": "markdown",
   "id": "3378ad9a",
   "metadata": {},
   "source": [
    "- Contaminante predominante: ¿Cuál fue el contaminante con mayor concentración media en ese año?"
   ]
  },
  {
   "cell_type": "code",
   "execution_count": null,
   "id": "f91baaf2",
   "metadata": {},
   "outputs": [],
   "source": []
  }
 ],
 "metadata": {
  "kernelspec": {
   "display_name": "Python 3",
   "language": "python",
   "name": "python3"
  },
  "language_info": {
   "codemirror_mode": {
    "name": "ipython",
    "version": 3
   },
   "file_extension": ".py",
   "mimetype": "text/x-python",
   "name": "python",
   "nbconvert_exporter": "python",
   "pygments_lexer": "ipython3",
   "version": "3.13.7"
  }
 },
 "nbformat": 4,
 "nbformat_minor": 5
}
