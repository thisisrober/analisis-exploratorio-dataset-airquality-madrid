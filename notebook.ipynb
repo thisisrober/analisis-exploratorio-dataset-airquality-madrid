{
 "cells": [
  {
   "cell_type": "markdown",
   "id": "f2b8ae2c",
   "metadata": {},
   "source": [
    "# 🔎 Análisis exploratorio del dataset Madrid Polution (2001- 2022)\n",
    "\n",
    "Este proyecto utiliza el dataset “MadridPolution2001-2022.csv”, que contiene registros horarios de contaminantes atmosféricos medidos en la estación Escuelas Aguirre (Madrid) desde enero de 2001 hasta marzo de 2022. El objetivo principal es analizar la evolución de la calidad del aire en Madrid, identificando tendencias, picos y patrones estacionales en los principales contaminantes.\n",
    "\n",
    "El dataset incluye las siguientes variables:\n",
    "- **BEN**: Benceno (µg/m³)\n",
    "- **CH4**: Metano (mg/m³)\n",
    "- **CO**: Monóxido de carbono (mg/m³)\n",
    "- **EBE**: Etilbenceno (µg/m³)\n",
    "- **NMHC**: Hidrocarburos no metánicos (mg/m³)\n",
    "- **NO**: Monóxido de nitrógeno (µg/m³)\n",
    "- **NO2**: Dióxido de nitrógeno (µg/m³)\n",
    "- **NOx**: Óxidos de nitrógeno (µg/m³)\n",
    "- **O3**: Ozono (µg/m³)\n",
    "- **PM10**: Partículas < 10 µm (µg/m³)\n",
    "- **PM25**: Partículas < 2.5 µm (µg/m³)\n",
    "- **SO2**: Dióxido de azufre (µg/m³)\n",
    "- **TCH**: Hidrocarburos totales (mg/m³)\n",
    "- **TOL**: Tolueno (µg/m³)\n",
    "\n",
    "El análisis se centra en la evolución temporal, la comparación entre contaminantes y la identificación de patrones estacionales y extremos."
   ]
  },
  {
   "cell_type": "markdown",
   "id": "039ebf67",
   "metadata": {},
   "source": [
    "## 🌱 Alba (limpieza y calidad de datos)\n",
    "\n",
    "Convertimos la columna Time, originalmente en formato string, a tipo datetime para asegurar consistencia temporal y permitir análisis por fecha y hora. También creamos nuevas columnas (year, month, day, hour) a partir de la columna de fecha para facilitar el análisis exploratorio por periodos de tiempo."
   ]
  },
  {
   "cell_type": "code",
   "execution_count": 59,
   "id": "9d881257",
   "metadata": {},
   "outputs": [
    {
     "name": "stdout",
     "output_type": "stream",
     "text": [
      "Nulos en la columna Time después de la conversión:  0\n",
      "Columnas detectadas en el CSV: ['Time', 'BEN', 'CH4', 'CO', 'EBE', 'NMHC', 'NO', 'NO2', 'NOx', 'O3', 'PM10', 'PM25', 'SO2', 'TCH', 'TOL', 'year', 'month', 'day', 'hour']\n",
      "Dimensiones del dataset: (172622, 19)\n",
      "                       Time   BEN  CH4   CO  EBE  NMHC     NO   NO2    NOx  \\\n",
      "0 2001-01-01 00:00:00+00:00   4.0  NaN  0.0  2.0   NaN   66.0  67.0  168.0   \n",
      "1 2001-01-01 01:00:00+00:00   9.0  NaN  0.0  5.0   NaN  146.0  71.0  294.0   \n",
      "2 2001-01-01 02:00:00+00:00   9.0  NaN  0.0  5.0   NaN  190.0  73.0  364.0   \n",
      "3 2001-01-01 03:00:00+00:00  10.0  NaN  0.0  5.0   NaN  170.0  75.0  335.0   \n",
      "4 2001-01-01 04:00:00+00:00   8.0  NaN  0.0  4.0   NaN  102.0  67.0  224.0   \n",
      "5 2001-01-01 05:00:00+00:00   3.0  NaN  1.0  2.0   NaN   63.0  60.0  157.0   \n",
      "6 2001-01-01 06:00:00+00:00   2.0  NaN  0.0  1.0   NaN   28.0  47.0   90.0   \n",
      "7 2001-01-01 07:00:00+00:00   2.0  NaN  1.0  1.0   NaN   33.0  43.0   93.0   \n",
      "8 2001-01-01 08:00:00+00:00   2.0  NaN  1.0  1.0   NaN   36.0  49.0  105.0   \n",
      "9 2001-01-01 09:00:00+00:00   2.0  NaN  1.0  1.0   NaN   25.0  43.0   82.0   \n",
      "\n",
      "     O3  PM10  PM25   SO2  TCH   TOL  year  month  day  hour  \n",
      "0   7.0  32.0   NaN  26.0  NaN  11.0  2001      1    1     0  \n",
      "1   7.0  41.0   NaN  21.0  NaN  21.0  2001      1    1     1  \n",
      "2   7.0  50.0   NaN  22.0  NaN  24.0  2001      1    1     2  \n",
      "3   7.0  55.0   NaN  19.0  NaN  25.0  2001      1    1     3  \n",
      "4   8.0  42.0   NaN  14.0  NaN  21.0  2001      1    1     4  \n",
      "5   8.0  21.0   NaN  10.0  NaN  10.0  2001      1    1     5  \n",
      "6  17.0  14.0   NaN   8.0  NaN   6.0  2001      1    1     6  \n",
      "7  21.0  13.0   NaN   8.0  NaN   6.0  2001      1    1     7  \n",
      "8  20.0  17.0   NaN   8.0  NaN   6.0  2001      1    1     8  \n",
      "9  24.0  15.0   NaN   7.0  NaN   5.0  2001      1    1     9  \n"
     ]
    }
   ],
   "source": [
    "import pandas as pd\n",
    "import matplotlib.pyplot as plt\n",
    "import matplotlib.ticker as mticker\n",
    "\n",
    "# Cargar el dataset\n",
    "csv_path = r\"data/MadridPolution2001-2022.csv\"\n",
    "\n",
    "# Leer sin parsear fechas inicialmente para detectar el nombre de columna correcto\n",
    "df = pd.read_csv(csv_path)\n",
    "\n",
    "# --- LIMPIEZA DE FECHA ---\n",
    "# La columna \"time\" la convertimos directamente a datetime\n",
    "df[\"Time\"] = pd.to_datetime(df[\"Time\"], errors=\"coerce\") # Con errors=\"coerce\"\n",
    "\n",
    "# Verificamos si se han generado nulos al convertir la columna \"Time\" a formato datetime\n",
    "print(\"Nulos en la columna Time después de la conversión: \", df[\"Time\"].isna().sum())\n",
    "\n",
    "# Creamos columnas auxiliares para explorar temporalmente el dataset, pero de momento no haremos una limpieza estricta\n",
    "df[\"year\"] = df[\"Time\"].dt.year\n",
    "df[\"month\"] = df[\"Time\"].dt.month\n",
    "df[\"day\"] = df[\"Time\"].dt.day\n",
    "df[\"hour\"] = df[\"Time\"].dt.hour\n",
    "\n",
    "\n",
    "# Mostramos los resultados\n",
    "print(\"Columnas detectadas en el CSV:\", df.columns.tolist())\n",
    "print(\"Dimensiones del dataset:\", df.shape)\n",
    "print(df.head(10))"
   ]
  },
  {
   "cell_type": "markdown",
   "id": "8e688d6b",
   "metadata": {},
   "source": [
    "Analizamos la presencia de valores nulos en todas las columnas y calculamos su porcentaje respecto al total de filas, identificando aquellas variables con mayor pérdida de información"
   ]
  },
  {
   "cell_type": "code",
   "execution_count": 67,
   "id": "bc1938ee",
   "metadata": {},
   "outputs": [
    {
     "name": "stdout",
     "output_type": "stream",
     "text": [
      "--- Cantidad total de nulos en cada columna y porcentaje---\n",
      "       Nulos  Porcentaje\n",
      "PM25   66570       38.56\n",
      "NMHC   32649       18.91\n",
      "TCH    32571       18.87\n",
      "CH4    32569       18.87\n",
      "TOL     8139        4.71\n",
      "EBE     7835        4.54\n",
      "BEN     7772        4.50\n",
      "PM10    4393        2.54\n",
      "O3      1725        1.00\n",
      "SO2      767        0.44\n",
      "NO       706        0.41\n",
      "NOx      704        0.41\n",
      "NO2      700        0.41\n",
      "CO       435        0.25\n",
      "Time       0        0.00\n",
      "year       0        0.00\n",
      "month      0        0.00\n",
      "day        0        0.00\n",
      "hour       0        0.00\n"
     ]
    }
   ],
   "source": [
    "# Contamos la cantidad de nulos que hay en cada columna\n",
    "total_filas = len(df)\n",
    "\n",
    "nulos_por_columna = df.isnull().sum()\n",
    "\n",
    "conteo_de_nulos = nulos_por_columna.to_frame(\"Nulos\").assign(Porcentaje=lambda x: (x[\"Nulos\"] / total_filas * 100).round(2)).sort_values(\"Nulos\", ascending=False)\n",
    "\n",
    "print(\"--- Cantidad total de nulos en cada columna y porcentaje---\")\n",
    "print(conteo_de_nulos)"
   ]
  },
  {
   "cell_type": "markdown",
   "id": "d5e1229f",
   "metadata": {},
   "source": [
    "Añadimos un gráfico de barras para poder representar de forma más visual cuales son las columnas que tienen una mayor cantidad de nulos en sus filas"
   ]
  },
  {
   "cell_type": "code",
   "execution_count": 70,
   "id": "35e94dba",
   "metadata": {},
   "outputs": [
    {
     "data": {
      "image/png": "[encoded data removed]",
      "text/plain": [
       "<Figure size 640x480 with 1 Axes>"
      ]
     },
     "metadata": {},
     "output_type": "display_data"
    }
   ],
   "source": [
    "conteo_de_nulos['Porcentaje'].plot(kind=\"bar\", color='red', legend=False)\n",
    "plt.title(\"Porcentaje de valores nulos en cada columna\")\n",
    "plt.xlabel(\"Columnas del DataSet\")\n",
    "plt.ylabel(\"Valores nulos (%)\")\n",
    "\n",
    "plt.grid(True, axis='y', linestyle='--', alpha=0.7)\n",
    "\n",
    "plt.ylim(0, 100)\n",
    "ejes = plt.gca()\n",
    "ejes.yaxis.set_major_formatter(mticker.FuncFormatter(lambda y, _: f'{int(y)}%'))\n",
    "plt.show()"
   ]
  },
  {
   "cell_type": "markdown",
   "id": "6c2f2a2c",
   "metadata": {},
   "source": [
    "Determinamos qué variables presentan problemas de calidad de datos debido a la alta proporción de valores ausentes, lo que afecta la representatividad de las mediciones y debe considerarse en futuros análisis."
   ]
  },
  {
   "cell_type": "code",
   "execution_count": null,
   "id": "a8c63e5b",
   "metadata": {},
   "outputs": [],
   "source": []
  },
  {
   "cell_type": "markdown",
   "id": "a23e1308",
   "metadata": {},
   "source": [
    "Comprobamos la existencia de filas duplicadas en el dataset y evaluamos su impacto, eliminándolas en caso de ser necesario para evitar sesgos en el análisis."
   ]
  },
  {
   "cell_type": "code",
   "execution_count": null,
   "id": "ae9fab16",
   "metadata": {},
   "outputs": [],
   "source": []
  },
  {
   "cell_type": "markdown",
   "id": "0c12847a",
   "metadata": {},
   "source": [
    "Revisamos los tipos de datos de cada columna para asegurar que las variables numéricas se encuentren en formato correcto (float/int) y no en formato texto, evitando errores en el procesamiento posterior."
   ]
  },
  {
   "cell_type": "code",
   "execution_count": null,
   "id": "af97ebf9",
   "metadata": {},
   "outputs": [],
   "source": []
  },
  {
   "cell_type": "markdown",
   "id": "8355f08f",
   "metadata": {},
   "source": [
    "Analizamos si existen valores anómalos o fuera de rango en las variables (ej. concentraciones negativas o valores extremadamente altos) para garantizar la coherencia de las mediciones."
   ]
  },
  {
   "cell_type": "code",
   "execution_count": null,
   "id": "cbf282f2",
   "metadata": {},
   "outputs": [],
   "source": []
  },
  {
   "cell_type": "markdown",
   "id": "f14aa2bd",
   "metadata": {},
   "source": [
    "## 📊 Robert (análisis general y descriptivo)\n",
    "\n",
    "- Promedio anual: ¿Cuál es la concentración media de cada contaminante por año? (tabla resumen por año y contaminante).\n",
    "- Mejora: Visualizar la evolución anual de los principales contaminantes con gráficos de líneas.\n"
   ]
  },
  {
   "cell_type": "code",
   "execution_count": null,
   "id": "20769903",
   "metadata": {},
   "outputs": [],
   "source": []
  },
  {
   "cell_type": "markdown",
   "id": "c0dc3f53",
   "metadata": {},
   "source": [
    "- Mes con peor calidad del aire: ¿Qué mes tuvo la media más alta de NO₂ cada año? (gráfico de barras mensual por año).\n",
    "- Mejora: Mostrar el mes más crítico para cada año y visualizar la tendencia mensual agregada."
   ]
  },
  {
   "cell_type": "code",
   "execution_count": null,
   "id": "08f1407b",
   "metadata": {},
   "outputs": [],
   "source": []
  },
  {
   "cell_type": "markdown",
   "id": "c3919642",
   "metadata": {},
   "source": [
    "- Distribución de O₃: ¿Cuál es el rango de concentraciones de O₃ más frecuente? (histograma global y por año).\n",
    "- Mejora: Analizar la variabilidad anual y estacional de O₃."
   ]
  },
  {
   "cell_type": "code",
   "execution_count": null,
   "id": "971fda24",
   "metadata": {},
   "outputs": [],
   "source": []
  },
  {
   "cell_type": "markdown",
   "id": "49b8571d",
   "metadata": {},
   "source": [
    "- Picos diarios: ¿Qué día presentó la concentración más alta de PM10 en cada año?\n",
    "- Mejora: Visualizar los días de picos extremos y analizar si hay patrones estacionales o de eventos puntuales."
   ]
  },
  {
   "cell_type": "code",
   "execution_count": null,
   "id": "3c42bb19",
   "metadata": {},
   "outputs": [],
   "source": []
  },
  {
   "cell_type": "markdown",
   "id": "dd558598",
   "metadata": {},
   "source": [
    "## 🌍 David (comparaciones y correlaciones)\n",
    "\n",
    "- Estacionalidad en un año: ¿Qué contaminante presenta mayores diferencias entre invierno y verano?\n",
    "- Mejora: Analizar la estacionalidad de todos los contaminantes y visualizar la diferencia entre estaciones."
   ]
  },
  {
   "cell_type": "code",
   "execution_count": null,
   "id": "b8a9a39d",
   "metadata": {},
   "outputs": [],
   "source": []
  },
  {
   "cell_type": "markdown",
   "id": "1a678d76",
   "metadata": {},
   "source": [
    "- Correlación: ¿Existe correlación entre los niveles diarios de NO₂ y CO en el periodo analizado?\n",
    "- Mejora: Analizar correlaciones entre más contaminantes y visualizar la matriz de correlación."
   ]
  },
  {
   "cell_type": "code",
   "execution_count": null,
   "id": "d87f4d80",
   "metadata": {},
   "outputs": [],
   "source": []
  },
  {
   "cell_type": "markdown",
   "id": "5aa6067f",
   "metadata": {},
   "source": [
    "- Laborables vs fines de semana: ¿Hay diferencias en los niveles de NO₂ promedio entre días laborables y fines de semana?\n",
    "- Mejora: Analizar diferencias para más contaminantes y visualizar la variación semanal."
   ]
  },
  {
   "cell_type": "code",
   "execution_count": null,
   "id": "37c11843",
   "metadata": {},
   "outputs": [],
   "source": []
  },
  {
   "cell_type": "markdown",
   "id": "433636bc",
   "metadata": {},
   "source": [
    "- Variación horaria: ¿A qué horas del día se concentran los picos de NO₂ en promedio durante el año? (curva horaria).\n",
    "- Mejora: Analizar la variación horaria de más contaminantes y comparar entre años."
   ]
  },
  {
   "cell_type": "code",
   "execution_count": null,
   "id": "788cad92",
   "metadata": {},
   "outputs": [],
   "source": []
  }
 ],
 "metadata": {
  "kernelspec": {
   "display_name": "Python 3",
   "language": "python",
   "name": "python3"
  },
  "language_info": {
   "codemirror_mode": {
    "name": "ipython",
    "version": 3
   },
   "file_extension": ".py",
   "mimetype": "text/x-python",
   "name": "python",
   "nbconvert_exporter": "python",
   "pygments_lexer": "ipython3",
   "version": "3.12.6"
  }
 },
 "nbformat": 4,
 "nbformat_minor": 5
}
